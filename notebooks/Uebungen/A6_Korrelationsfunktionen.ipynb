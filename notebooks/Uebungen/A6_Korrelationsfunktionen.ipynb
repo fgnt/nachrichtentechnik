{
 "cells": [
  {
   "cell_type": "code",
   "execution_count": null,
   "metadata": {
    "collapsed": true
   },
   "outputs": [],
   "source": [
    "import numpy as np\n",
    "import matplotlib.pyplot as plt\n",
    "import ipywidgets as widget\n",
    "from IPython.display import display\n",
    "%matplotlib inline\n",
    "\n",
    "pi = np.math.pi\n",
    "\n",
    "plt.rcParams['font.size'] = 40\n",
    "plt.rcParams['figure.figsize'] = (40, 10)\n",
    "plt.rcParams['lines.linewidth'] = 2.0\n",
    "\n",
    "def setLabels(lX, lY):\n",
    "    plt.xlabel(lX)\n",
    "    plt.ylabel(lY)"
   ]
  },
  {
   "cell_type": "markdown",
   "metadata": {},
   "source": [
    "# Aufgabe 6: Korrelationsfunktionen"
   ]
  },
  {
   "cell_type": "markdown",
   "metadata": {},
   "source": [
    "Gegeben sei das Signal $x(t) = \\mathrm{si}\\left(\\frac{\\pi t}{T}\\right)$."
   ]
  },
  {
   "cell_type": "markdown",
   "metadata": {},
   "source": [
    "## 6.1\n",
    "Ist $x(t)$ ein Energie- oder ein Leistungssignal?"
   ]
  },
  {
   "cell_type": "markdown",
   "metadata": {},
   "source": [
    "Energiesignale haben eine endliche Energie:\n",
    "\\begin{align}\n",
    "    E_x = \\int_{-\\infty}^{\\infty} \\left|x(t)\\right|^2 \\mathrm{d}t \\overset{!}{<} \\infty\n",
    "\\end{align}\n",
    "Wird $x(t)$ eingesetzt, ergibt dies:\n",
    "\\begin{align}\n",
    "    E_x = \\int_{-\\infty}^{\\infty} \\left|x(t)\\right|^2 \\mathrm{d}t\n",
    "        = \\int_{-\\infty}^{\\infty} \\left|\\mathrm{si}\\left(\\frac{\\pi t}{T}\\right)\\right|^2 \\mathrm{d}t\n",
    "        = \\int_{-\\infty}^{\\infty} \\frac{ \\sin^2\\left(\\frac{\\pi t}{T}\\right)}{\\left(\\frac{\\pi t}{T}\\right)^2}  \\mathrm{d}t \\leq \\int_{-\\infty}^{\\infty} \\frac{1}{\\left(\\frac{\\pi t}{T}\\right)^2}  \\mathrm{d}t < \\infty\n",
    "\\end{align}\n",
    "Beim letzten Schritt wurde ausgenutzt, dass $\\left|\\sin \\left(\\frac{\\pi t}{T}\\right)\\right| \\leq 1$ gilt.\n",
    "Da das Integral nach oben durch ein konvergentes Integral abgeschätzt werden kann, ist die Energie endlich. Der genaue Wert wird in der nächsten Teilaufgabe bestimmt."
   ]
  },
  {
   "cell_type": "markdown",
   "metadata": {},
   "source": [
    "## 6.2\n",
    "Berechnen Sie die Autokorrelationsfunktion von $x(t)$, seine Energie/Leistung und das Energie-\n",
    "/Leistungsdichtespektrum."
   ]
  },
  {
   "cell_type": "markdown",
   "metadata": {},
   "source": [
    "Die Autokorrelationsfunktion kann über eine Faltung dargestellt werden:\n",
    "\\begin{align}\n",
    "    \\varphi^\\text{E}_{xx}(\\tau) &= \\int_{-\\infty}^{\\infty} x^{\\ast}(t)x(t+\\tau) \\mathrm{d}t = \\left. \\int_{-\\infty}^{\\infty} x^{\\ast}(t)x(\\tau-(-t)) \\mathrm{d}t \\quad \\quad \\right| t' = -t,\\  \\mathrm{d}t' = -\\mathrm{d}t,\\  t'(\\infty) = -\\infty,\\  t'(-\\infty) = \\infty  \\\\\n",
    "        &= -\\int_{\\infty}^{-\\infty} x^{\\ast}(-t')x(\\tau-t') \\mathrm{d}t' = x^{\\ast}(-\\tau) \\ast x(\\tau)\n",
    "\\end{align}\n",
    "Da die Faltung im Zeitbereich schwierig zu berechnen ist, wird sie im Frequenzbereich bestimmt. Es gilt das Wiener-Khinchine-Theorem:  \n",
    "\n",
    "\\begin{align}\n",
    "    \\Phi^\\text{E}_{xx}(j\\omega) = \\mathcal{F}\\left\\{ \\varphi^\\text{E}_{xx}(\\tau) \\right\\} = \\mathcal{F}\\left\\{ x^{\\ast}(-\\tau) \\ast x(\\tau) \\right\\} = \\mathcal{F}\\left\\{ x^{\\ast}(-\\tau) \\right\\} \\mathcal{F}\\left\\{ x(\\tau) \\right\\} = X^{\\ast}(-(-j\\omega)) X(j\\omega) = \\left| X(j\\omega) \\right|^2\n",
    "\\end{align}  \n",
    "\n",
    "Mit dem Transformationspaar $\\mathcal{F} \\left\\{ \\mathrm{si}\\left(\\frac{\\pi t}{T}\\right) \\right\\}  = \\mathcal{F} \\left\\{ \\frac{2 \\pi}{2 \\pi} \\mathrm{si}\\left(\\frac{2 \\pi t}{2T}\\right) \\right\\} = T \\mathrm{rect} \\left( \\frac{\\omega}{ 2 \\pi / T} \\right)$ ergibt sich für das Energiedichtespektrum:  \n",
    "\n",
    "\\begin{align}\n",
    "    \\Phi^\\text{E}_{xx}(j\\omega) = \\left|T \\mathrm{rect}\\left(\\frac{\\omega}{2\\pi/T}\\right)\\right|^2 \\\\\n",
    "            = T^2 \\mathrm{rect}\\left(\\frac{\\omega}{2\\pi/T}\\right)\n",
    "\\end{align}\n",
    "Die Rücktransformation ergibt als Autokorrelationsfunktion das Eingangssignal skaliert mit einem Faktor $T$:\n",
    "\\begin{align}\n",
    "    \\varphi^\\text{E}_{xx}(\\tau) = \\mathcal{F}^{-1} \\left\\{ T^2 \\mathrm{rect}\\left(\\frac{\\omega}{2\\pi/T}\\right) \\right\\}\n",
    "    = T \\mathrm{si}\\left(\\frac{\\pi \\tau}{T}\\right) \n",
    "\\end{align}\n",
    "Die Energie kann auf sehr viele Weisen berechnet werden:\n",
    "\\begin{align}\n",
    "    E_x = \\varphi^\\text{E}_{xx}(0) = \\int_{-\\infty}^{\\infty} \\left|x(t)\\right|^2 \\mathrm{d}t = \\frac{1}{2 \\pi} \\int_{-\\infty}^{\\infty} \\left|X(j\\omega)\\right|^2 \\mathrm{d}\\omega = \\frac{1}{2 \\pi} \\int_{-\\infty}^{\\infty} \\Phi^\\text{E}_{xx}(j\\omega)  \\mathrm{d}\\omega\n",
    "\\end{align}\n",
    "Die Gleichung in der Mitte ist das Parsevaltheorem. Aus dem letzten Integral wird die Bezeichnung Energiedichtespektrum deutlich: $\\Phi^\\text{E}_{xx}(j\\omega)$ kann als Energie pro (unendlich kleinem) Frequenzintervall um $\\omega$ herum aufgefasst werden.\n",
    "Es sollte immer die Methode gewählt werden, die am einfachsten ist. Hier ist dies die Auswertung der AKF an der Stelle $\\tau =0$:  \n",
    "\\begin{align}\n",
    "    E_x = \\varphi^\\text{E}_{xx}(0) = T \\mathrm{si}\\left(\\frac{\\pi 0}{T}\\right) = T\n",
    "\\end{align}"
   ]
  },
  {
   "cell_type": "markdown",
   "metadata": {},
   "source": [
    "Jetzt betrachten wir das Signal $y(t) = \\cos(\\omega_0 t)$."
   ]
  },
  {
   "cell_type": "markdown",
   "metadata": {},
   "source": [
    "## 6.3\n",
    "Ist $y(t)$ ein Energie- oder Leistungssignal?"
   ]
  },
  {
   "cell_type": "markdown",
   "metadata": {},
   "source": [
    "Kurze Antwort: $y(t)$ ist periodisch mit Periodendauer $T= \\frac{2 \\pi}{\\omega_0}$. Das Signal klingt deshalb nicht ab und die Energie ist unendlich. Es ist deshalb ein Leistungssignal.  \n",
    "Dies lässt sich etwa folgendermaßen zeigen:\n",
    "\\begin{align}\n",
    "     E_y = \\int_{-\\infty}^{\\infty} \\left|y(t)\\right|^2 \\mathrm{d}t \n",
    "     = \\int_{-\\infty}^{\\infty} \\left| \\cos(\\omega_0 t) \\right|^2 \\mathrm{d}t \n",
    "     = \\sum_{k=-\\infty}^{\\infty} \\int_{kT - T/2}^{kT + T/2} \\cos^2(\\omega_0 t) \\mathrm{d}t\n",
    "     = \\sum_{k=-\\infty}^{\\infty} \\int_{kT - T/2}^{kT + T/2} \\frac{1+\\cos(2\\omega_0 t)}{2} \\mathrm{d}t\n",
    "     = \\sum_{k=-\\infty}^{\\infty} \\frac{T}{2} \\rightarrow \\infty\n",
    "\\end{align}\n"
   ]
  },
  {
   "cell_type": "markdown",
   "metadata": {},
   "source": [
    "## 6.4\n",
    "Berechnen Sie die Autokorrelationsfunktion von $y(t)$, seine Energie/Leistung und das Energie-\n",
    "/Leistungsdichtespektrum.  \n",
    "  \n",
    "Hinweis: $\\cos(\\alpha) \\cos(\\beta) = \\frac{1}{2}\\left( \\cos(\\alpha+\\beta) + \\cos(\\alpha - \\beta)\\right)$"
   ]
  },
  {
   "cell_type": "markdown",
   "metadata": {},
   "source": [
    "Für Leistungssignale kann die AKF nicht durch eine Faltung dargestellt werden.\n",
    "Da $y(t)$ periodisch ist, können die Sonderformeln für periodische Signale verwendet werden:\n",
    "\\begin{align}\n",
    "    \\varphi^\\text{L}_{yy}(\\tau) &= \\lim_{T\\rightarrow \\infty} \\frac{1}{T}\\int_{- T/2}^{+ T/2} y^{\\ast}(t) y(t+\\tau) \\mathrm{d}t \n",
    "    = \\frac{1}{T}\\int_{- T/2}^{+ T/2} y^{\\ast}(t) y(t+\\tau) \\mathrm{d}t \\\\\n",
    "    &= \\frac{1}{T}\\int_{- T/2}^{+ T/2} \\cos(\\underbrace{\\omega_0 t}_{\\beta}) \\cos(\\underbrace{\\omega_0 (t+\\tau)}_{\\alpha}) \\mathrm{d}t\n",
    "    = \\frac{1}{T}\\int_{- T/2}^{+ T/2} \\frac{1}{2}\\left( \\cos(2\\omega_0 t + \\omega_0\\tau) + \\cos(\\omega_0\\tau)\\right) \\mathrm{d}t \\\\\n",
    "    &= \\frac{1}{2T} \\left( \\underbrace{\\int_{- T/2}^{+ T/2} \\cos(2\\omega_0t + \\omega_0\\tau) \\mathrm{d}t}_{=0} + \\cos(\\omega_0\\tau)T \\right) =\\frac{1}{2}\\cos(\\omega_0\\tau)\n",
    "\\end{align}  \n",
    "\n",
    "Die Autokorrelationsfunktion ist also selbst periodisch mit derselben Periodendauer. Dieses Ergebnis ist intuitiv sinnvoll, da die Verschiebung um volle Perioden das Signal nicht verändert und deshalb auch die Selbstähnlichkeit wieder maximal werden muss.  \n",
    "\n",
    "Das Leistungsdichtespektrum kann **nicht** durch das Betragsquadrat der Fouriertransformierten des Signals gewonnen werden, weil diese Diracimpulse enthält.\n",
    "Stattdessen muss das Wiener-Khinchine-Theorem ausgenutzt, also die AKF transformiert werden:\n",
    "\\begin{align}\n",
    "    \\Phi^\\text{L}_{yy}(j\\omega) =  \\mathcal{F} \\left\\{ \\varphi^\\text{L}_{yy}(\\tau) \\right\\} = \\frac{\\pi}{2} \\left( \\mathrm{\\delta} (\\omega - \\omega_0) + \\mathrm{\\delta} (\\omega + \\omega_0) \\right)\n",
    "\\end{align}  \n",
    "Das Signal enthält also nur Leistungsanteile bei den Frequenzen $\\omega_0$ und $-\\omega_0$. Durch das Leistungsdichtespektrum können auch ohne Kenntnis der eigentlichen Fouriertransformierten des Signals Aussagen über die spektralen Eigenschaften getroffen werden, sofern die AKF bekannt ist.\n",
    "\n",
    "Die Leistung kann durch den Wert der AKF an der Stelle Null bestimmt werden:  \n",
    "\\begin{align}\n",
    "    P_y = \\frac{1}{T} \\int_{- T/2}^{+ T/2} \\left|y(t)\\right|^2 \\mathrm{d}t = \\varphi^\\text{L}_{yy}(0) = \\frac{1}{2}\n",
    "\\end{align}\n",
    "Auch dieses Ergebnis ist sinnvoll, wenn diese Leistungsdefinition mit der des Effektivwertes aus der Theorie der Wechselstromrechnung verglichen wird:\n",
    "\\begin{align}\n",
    "    Y_\\text{eff} = \\sqrt{ \\frac{1}{T} \\int_{- T/2}^{+ T/2} \\left|y(t)\\right|^2 \\mathrm{d}t } = \\sqrt{P_y}\n",
    "\\end{align}\n",
    "Festzuhalten ist: **Die Leistung eines Leistungssignals ist das Quadrat seines Effektivwertes.**"
   ]
  },
  {
   "cell_type": "markdown",
   "metadata": {},
   "source": [
    "## Zusatz: AKF und Leistungsdichtespektrum eines beliebigen peridoschen Signals"
   ]
  },
  {
   "cell_type": "markdown",
   "metadata": {},
   "source": [
    "Die Darstellung oben kann einfach auf beliebige periodische Signale erweitert werden. Dazu wird zunächst folgendes Integral bestimmt, welches das Skalarprodukt zwischen zwei Exponentialschwingungen für Vielfache der Grundfrequenz darstellt:\n",
    "\\begin{align}\n",
    "    \\frac{1}{T}\\int_{- T/2}^{+ T/2} \\mathrm{e}^{-jk\\omega_0t} \\mathrm{e}^{jm\\omega_0t}\\mathrm{d}t \n",
    "    = \\frac{1}{T}\\int_{- T/2}^{+ T/2} \\cos((m-k)\\omega_0t) + j \\sin((m-k)\\omega_0t) \\mathrm{d}t = \\gamma(m-k)\n",
    "\\end{align}\n",
    "Das Ergebnis ist also nur dann ungleich Null, wenn die Frequenzen gleich sind. Für diese Frequenzverhältnisse sind die Schwingungen also orthogonale Signale.  \n",
    "\n",
    "Ein beliebiges periodisches Signal mit Periodendauer $T = \\frac{2 \\pi}{\\omega_0}$ kann über eine Fourierreihe dargestellt werden:\n",
    "\\begin{align}\n",
    "    x(t) = \\sum_{n=-\\infty}^{\\infty} X_n \\mathrm{e}^{jn\\omega_0t}\n",
    "\\end{align}\n",
    "Die AKF ergibt sich dann zu\n",
    "\\begin{align}\n",
    "    \\varphi^\\text{L}_{xx}(\\tau) &= \\frac{1}{T}\\int_{- T/2}^{+ T/2} x^{\\ast}(t) x(t+\\tau) \\mathrm{d}t\n",
    "    = \\frac{1}{T}\\int_{- T/2}^{+ T/2} \\left( \\sum_{m=-\\infty}^{\\infty} X_m \\mathrm{e}^{jm\\omega_0t} \\right)^{\\ast} \\left( \\sum_{k=-\\infty}^{\\infty} X_n \\mathrm{e}^{jk\\omega_0(t+\\tau)} \\right) \\mathrm{d}t \\\\\n",
    "    &= \\frac{1}{T}\\int_{- T/2}^{+ T/2} \\left( \\sum_{m=-\\infty}^{\\infty} X^{\\ast}_m \\mathrm{e}^{-jm\\omega_0t} \\right)^{\\ast} \\left( \\sum_{k=-\\infty}^{\\infty} X_k \\mathrm{e}^{jk\\omega_0(t+\\tau)} \\right) \\mathrm{d}t\n",
    "    = \\sum_{m=-\\infty}^{\\infty} \\sum_{k=-\\infty}^{\\infty} X^{\\ast}_m X_k \\mathrm{e}^{jk\\omega_0\\tau} \\frac{1}{T}\\int_{- T/2}^{+ T/2} \\mathrm{e}^{j(k-m)\\omega_0t} \\mathrm{d}t \\\\\n",
    "    &= \\sum_{m=-\\infty}^{\\infty} \\sum_{k=-\\infty}^{\\infty} X^{\\ast}_m X_k \\mathrm{e}^{jk\\omega_0\\tau} \\gamma(k-m)\n",
    "    = \\sum_{k=-\\infty}^{\\infty} |X_k|^2 \\mathrm{e}^{jk\\omega_0\\tau}\n",
    "\\end{align}  \n",
    "\n",
    "Weil durch die Symmetrieanforderungen reeller Zeitsignale $X_{-k} = X^{\\ast}_k$ gelten muss, enthält in diesem Fall die AKF durch $|X_k|^2$ nur Kosinusterme und ist deshalb wie erwartet eine gerade Funktion.\n",
    "Durch Fouriertransformation lässt sich dann das Leistungsdichtespektrum gewinnen:\n",
    "\\begin{align}\n",
    "    \\Phi^\\text{L}_{xx}(j\\omega) =  \\mathcal{F} \\left\\{ \\varphi^\\text{L}_{xx}(\\tau) \\right\\} = \\sum_{k=-\\infty}^{\\infty} |X_k|^2 \\mathcal{F} \\left\\{ \\mathrm{e}^{jk\\omega_0\\tau} \\right\\} = \\sum_{k=-\\infty}^{\\infty} |X_k|^2 2\\pi \\mathrm{\\delta}(\\omega - k\\omega_0)\n",
    "\\end{align}\n",
    "Das Leistungsdichtespektrum ist also rein reell."
   ]
  }
 ],
 "metadata": {
  "kernelspec": {
   "display_name": "Python 3",
   "language": "python",
   "name": "python3"
  },
  "language_info": {
   "codemirror_mode": {
    "name": "ipython",
    "version": 3
   },
   "file_extension": ".py",
   "mimetype": "text/x-python",
   "name": "python",
   "nbconvert_exporter": "python",
   "pygments_lexer": "ipython3",
   "version": "3.5.0"
  }
 },
 "nbformat": 4,
 "nbformat_minor": 0
}
