{
 "cells": [
  {
   "cell_type": "markdown",
   "metadata": {},
   "source": [
    "# Aufgabe 6: Korrelationsfunktionen"
   ]
  },
  {
   "cell_type": "markdown",
   "metadata": {},
   "source": [
    "Gegeben sei das Signal $x(t) = \\mathrm{si}\\left(\\frac{\\pi t}{T}\\right)$."
   ]
  },
  {
   "cell_type": "markdown",
   "metadata": {},
   "source": [
    "## 6.1\n",
    "Ist $x(t)$ ein Energie- oder ein Leistungssignal?"
   ]
  },
  {
   "cell_type": "markdown",
   "metadata": {},
   "source": [
    "Energiesignale haben eine endliche Energie:\n",
    "\n",
    "\\begin{align}\n",
    "    E_x = \\int_{-\\infty}^{\\infty} \\left|x(t)\\right|^2 \\mathrm{d}t \\overset{!}{<} \\infty\n",
    "\\end{align}\n",
    "\n",
    "Wird $x(t)$ eingesetzt, ergibt dies:\n",
    "\n",
    "\\begin{align}\n",
    "    E_x = \\int_{-\\infty}^{\\infty} \\left|x(t)\\right|^2 \\mathrm{d}t\n",
    "        = \\int_{-\\infty}^{\\infty} \\left|\\mathrm{si}\\left(\\frac{\\pi t}{T}\\right)\\right|^2 \\mathrm{d}t\n",
    "        = \\int_{-\\infty}^{\\infty} \\frac{ \\sin^2\\left(\\frac{\\pi t}{T}\\right)}{\\left(\\frac{\\pi t}{T}\\right)^2}  \\mathrm{d}t \\leq \\int_{-\\infty}^{\\infty} \\frac{1}{\\left(\\frac{\\pi t}{T}\\right)^2}  \\mathrm{d}t < \\infty\n",
    "\\end{align}\n",
    "\n",
    "Beim letzten Schritt wurde ausgenutzt, dass $\\left|\\sin \\left(\\frac{\\pi t}{T}\\right)\\right| \\leq 1$ gilt.\n",
    "Da das Integral nach oben durch ein konvergentes Integral abgeschätzt werden kann, ist die Energie endlich. Der genaue Wert wird in der nächsten Teilaufgabe bestimmt."
   ]
  },
  {
   "cell_type": "markdown",
   "metadata": {},
   "source": [
    "## 6.2\n",
    "Berechnen Sie die Autokorrelationsfunktion von $x(t)$, seine Energie/Leistung und das Energie-\n",
    "/Leistungsdichtespektrum."
   ]
  },
  {
   "cell_type": "markdown",
   "metadata": {},
   "source": [
    "Die Autokorrelationsfunktion kann über eine Faltung dargestellt werden:\n",
    "\n",
    "\\begin{align}\n",
    "    \\varphi^\\text{E}_{xx}(\\tau) &= \\int_{-\\infty}^{\\infty} x^{\\ast}(t)x(t+\\tau) \\mathrm{d}t = \\left. \\int_{-\\infty}^{\\infty} x^{\\ast}(t)x(\\tau-(-t)) \\mathrm{d}t \\quad \\quad \\right| t' = -t,\\  \\mathrm{d}t' = -\\mathrm{d}t,\\  t'(\\infty) = -\\infty,\\  t'(-\\infty) = \\infty  \\\\\n",
    "        &= -\\int_{\\infty}^{-\\infty} x^{\\ast}(-t')x(\\tau-t') \\mathrm{d}t' = x^{\\ast}(-\\tau) \\ast x(\\tau)\n",
    "\\end{align}\n",
    "\n",
    "Da die Faltung im Zeitbereich schwierig zu berechnen ist, wird sie im Frequenzbereich bestimmt. Es gilt das Wiener-Khinchine-Theorem:  \n",
    "\n",
    "\\begin{align}\n",
    "    \\Phi^\\text{E}_{xx}(j\\omega) = \\mathcal{F}\\left\\{ \\varphi^\\text{E}_{xx}(\\tau) \\right\\} = \\mathcal{F}\\left\\{ x^{\\ast}(-\\tau) \\ast x(\\tau) \\right\\} = \\mathcal{F}\\left\\{ x^{\\ast}(-\\tau) \\right\\} \\mathcal{F}\\left\\{ x(\\tau) \\right\\} = X^{\\ast}(-(-j\\omega)) X(j\\omega) = \\left| X(j\\omega) \\right|^2\n",
    "\\end{align}  \n",
    "\n",
    "Mit dem Transformationspaar $\\mathcal{F} \\left\\{ \\mathrm{si}\\left(\\frac{\\pi t}{T}\\right) \\right\\}  = \\mathcal{F} \\left\\{ \\frac{2 \\pi}{2 \\pi} \\mathrm{si}\\left(\\frac{2 \\pi t}{2T}\\right) \\right\\} = T \\mathrm{rect} \\left( \\frac{\\omega}{ 2 \\pi / T} \\right)$ ergibt sich für das Energiedichtespektrum:  \n",
    "\n",
    "\\begin{align}\n",
    "    \\Phi^\\text{E}_{xx}(j\\omega) = \\left|T \\mathrm{rect}\\left(\\frac{\\omega}{2\\pi/T}\\right)\\right|^2 \\\\\n",
    "            = T^2 \\mathrm{rect}\\left(\\frac{\\omega}{2\\pi/T}\\right)\n",
    "\\end{align}\n",
    "\n",
    "Die Rücktransformation ergibt als Autokorrelationsfunktion das Eingangssignal skaliert mit einem Faktor $T$:\n",
    "\n",
    "\\begin{align}\n",
    "    \\varphi^\\text{E}_{xx}(\\tau) = \\mathcal{F}^{-1} \\left\\{ T^2 \\mathrm{rect}\\left(\\frac{\\omega}{2\\pi/T}\\right) \\right\\}\n",
    "    = T \\mathrm{si}\\left(\\frac{\\pi \\tau}{T}\\right) \n",
    "\\end{align}\n",
    "\n",
    "Die Energie kann auf sehr viele Weisen berechnet werden:\n",
    "\n",
    "\\begin{align}\n",
    "    E_x = \\varphi^\\text{E}_{xx}(0) = \\int_{-\\infty}^{\\infty} \\left|x(t)\\right|^2 \\mathrm{d}t = \\frac{1}{2 \\pi} \\int_{-\\infty}^{\\infty} \\left|X(j\\omega)\\right|^2 \\mathrm{d}\\omega = \\frac{1}{2 \\pi} \\int_{-\\infty}^{\\infty} \\Phi^\\text{E}_{xx}(j\\omega)  \\mathrm{d}\\omega\n",
    "\\end{align}\n",
    "\n",
    "Die Gleichung in der Mitte ist das Parsevaltheorem. Aus dem letzten Integral wird die Bezeichnung Energiedichtespektrum deutlich: $\\Phi^\\text{E}_{xx}(j\\omega)$ kann als Energie pro (unendlich kleinem) Frequenzintervall um $\\omega$ herum aufgefasst werden.\n",
    "Es sollte immer die Methode gewählt werden, die am einfachsten ist. Hier ist dies die Auswertung der AKF an der Stelle $\\tau =0$:\n",
    "\n",
    "\\begin{align}\n",
    "    E_x = \\varphi^\\text{E}_{xx}(0) = T \\mathrm{si}\\left(\\frac{\\pi 0}{T}\\right) = T\n",
    "\\end{align}"
   ]
  },
  {
   "cell_type": "markdown",
   "metadata": {},
   "source": [
    "Jetzt betrachten wir das Signal $y(t) = \\cos(\\omega_0 t)$."
   ]
  },
  {
   "cell_type": "markdown",
   "metadata": {},
   "source": [
    "## 6.3\n",
    "Ist $y(t)$ ein Energie- oder Leistungssignal?"
   ]
  },
  {
   "cell_type": "markdown",
   "metadata": {},
   "source": [
    "Kurze Antwort: $y(t)$ ist periodisch mit Periodendauer $T= \\frac{2 \\pi}{\\omega_0}$. Das Signal klingt deshalb nicht ab und die Energie ist unendlich. Es ist deshalb ein Leistungssignal.  \n",
    "Dies lässt sich etwa folgendermaßen zeigen, indem das Integral in eine Summe von Integralen, die jeweils über eine Periode gehen, zerlegt wird:\n",
    "\n",
    "\\begin{align}\n",
    "     E_y = \\int_{-\\infty}^{\\infty} \\left|y(t)\\right|^2 \\mathrm{d}t \n",
    "     = \\int_{-\\infty}^{\\infty} \\left| \\cos(\\omega_0 t) \\right|^2 \\mathrm{d}t \n",
    "     = \\sum_{k=-\\infty}^{\\infty} \\int_{kT - T/2}^{kT + T/2} \\cos^2(\\omega_0 t) \\mathrm{d}t\n",
    "     = \\sum_{k=-\\infty}^{\\infty} \\int_{kT - T/2}^{kT + T/2} \\frac{1+\\cos(2\\omega_0 t)}{2} \\mathrm{d}t\n",
    "     = \\sum_{k=-\\infty}^{\\infty} \\frac{T}{2} \\rightarrow \\infty\n",
    "\\end{align}\n"
   ]
  },
  {
   "cell_type": "markdown",
   "metadata": {},
   "source": [
    "## 6.4\n",
    "Berechnen Sie die Autokorrelationsfunktion von $y(t)$, seine Energie/Leistung und das Energie-\n",
    "/Leistungsdichtespektrum.  \n",
    "  \n",
    "Hinweis: $\\cos(\\alpha) \\cos(\\beta) = \\frac{1}{2}\\left( \\cos(\\alpha+\\beta) + \\cos(\\alpha - \\beta)\\right)$"
   ]
  },
  {
   "cell_type": "markdown",
   "metadata": {},
   "source": [
    "Für Leistungssignale kann die AKF nicht durch eine Faltung dargestellt werden.\n",
    "Da $y(t)$ periodisch ist, können die Sonderformeln für periodische Signale verwendet werden:\n",
    "\n",
    "\\begin{align}\n",
    "    \\varphi^\\text{L}_{yy}(\\tau) &= \\lim_{T\\rightarrow \\infty} \\frac{1}{T}\\int_{- T/2}^{+ T/2} y^{\\ast}(t) y(t+\\tau) \\mathrm{d}t \n",
    "    = \\frac{1}{T}\\int_{- T/2}^{+ T/2} y^{\\ast}(t) y(t+\\tau) \\mathrm{d}t \\\\\n",
    "    &= \\frac{1}{T}\\int_{- T/2}^{+ T/2} \\cos(\\underbrace{\\omega_0 t}_{\\beta}) \\cos(\\underbrace{\\omega_0 (t+\\tau)}_{\\alpha}) \\mathrm{d}t\n",
    "    = \\frac{1}{T}\\int_{- T/2}^{+ T/2} \\frac{1}{2}\\left( \\cos(2\\omega_0 t + \\omega_0\\tau) + \\cos(\\omega_0\\tau)\\right) \\mathrm{d}t \\\\\n",
    "    &= \\frac{1}{2T} \\left( \\underbrace{\\int_{- T/2}^{+ T/2} \\cos(2\\omega_0t + \\omega_0\\tau) \\mathrm{d}t}_{=0} + \\cos(\\omega_0\\tau)T \\right) =\\frac{1}{2}\\cos(\\omega_0\\tau)\n",
    "\\end{align}  \n",
    "\n",
    "Die Autokorrelationsfunktion ist also selbst periodisch mit derselben Periodendauer. Dieses Ergebnis ist intuitiv sinnvoll, da die Verschiebung um volle Perioden das Signal nicht verändert und deshalb auch die Selbstähnlichkeit wieder maximal werden muss.  \n",
    "\n",
    "Das Leistungsdichtespektrum kann **nicht** durch das Betragsquadrat der Fouriertransformierten des Signals gewonnen werden, weil diese Diracimpulse enthält.\n",
    "Stattdessen muss das Wiener-Khinchine-Theorem ausgenutzt, also die AKF transformiert werden:\n",
    "\n",
    "\\begin{align}\n",
    "    \\Phi^\\text{L}_{yy}(j\\omega) =  \\mathcal{F} \\left\\{ \\varphi^\\text{L}_{yy}(\\tau) \\right\\} = \\frac{\\pi}{2} \\left( \\mathrm{\\delta} (\\omega - \\omega_0) + \\mathrm{\\delta} (\\omega + \\omega_0) \\right)\n",
    "\\end{align}  \n",
    "\n",
    "Das Signal enthält also nur Leistungsanteile bei den Frequenzen $\\omega_0$ und $-\\omega_0$. Durch das Leistungsdichtespektrum können auch ohne Kenntnis der eigentlichen Fouriertransformierten des Signals Aussagen über die spektralen Eigenschaften getroffen werden, sofern die AKF bekannt ist.\n",
    "\n",
    "Die Leistung kann durch den Wert der AKF an der Stelle Null bestimmt werden:  \n",
    "\n",
    "\\begin{align}\n",
    "    P_y = \\frac{1}{T} \\int_{- T/2}^{+ T/2} \\left|y(t)\\right|^2 \\mathrm{d}t = \\varphi^\\text{L}_{yy}(0) = \\frac{1}{2}\n",
    "\\end{align}\n",
    "\n",
    "Auch dieses Ergebnis ist sinnvoll, wenn diese Leistungsdefinition mit der des Effektivwertes aus der Theorie der Wechselstromrechnung verglichen wird:\n",
    "\n",
    "\\begin{align}\n",
    "    Y_\\text{eff} = \\sqrt{ \\frac{1}{T} \\int_{- T/2}^{+ T/2} \\left|y(t)\\right|^2 \\mathrm{d}t } = \\sqrt{P_y}\n",
    "\\end{align}\n",
    "\n",
    "Festzuhalten ist: **Die Leistung eines Leistungssignals ist das Quadrat seines Effektivwertes.**\n",
    "\n",
    "Alternativ kann auch über alle Frequenzen integriert werden:\n",
    "\n",
    "\\begin{align}\n",
    "    P_y = \\varphi^\\text{L}_{yy}(0) &= \\left. \\frac{1}{2 \\pi} \\int_{-\\infty}^{\\infty} \\Phi^\\text{L}_{yy}(j\\omega)\\mathrm{e}^{j \\omega \\tau} \\mathrm{d}\\omega\\right|_{\\tau=0} = \\frac{1}{2 \\pi} \\int_{-\\infty}^{\\infty} \\Phi^\\text{L}_{yy}(j\\omega) \\mathrm{d}\\omega \\\\\n",
    "    &= \\frac{1}{2 \\pi} \\int_{-\\infty}^{\\infty} \\frac{\\pi}{2} \\left( \\mathrm{\\delta} (\\omega - \\omega_0) + \\mathrm{\\delta} (\\omega + \\omega_0) \\right) \\mathrm{d}\\omega = \\frac{1}{4} + \\frac{1}{4} =  \\frac{1}{2}\n",
    "\\end{align}\n",
    "\n",
    "Daher stammt auch der Name **Leistungs**dichtespektrum: Es wird damit beschreiben, wie sich die Leistung auf die einzelnen Frequenzen aufteilt."
   ]
  },
  {
   "cell_type": "markdown",
   "metadata": {},
   "source": [
    "## Zusatz: AKF und Leistungsdichtespektrum eines beliebigen periodischen Signals"
   ]
  },
  {
   "cell_type": "markdown",
   "metadata": {},
   "source": [
    "Die Darstellung oben kann einfach auf beliebige periodische Signale erweitert werden. Dazu wird zunächst folgendes Integral bestimmt, welches das Skalarprodukt zwischen zwei Exponentialschwingungen für Vielfache der Grundfrequenz darstellt:\n",
    "\n",
    "\\begin{align}\n",
    "    \\frac{1}{T}\\int_{- T/2}^{+ T/2} \\mathrm{e}^{-jk\\omega_0t} \\mathrm{e}^{jm\\omega_0t}\\mathrm{d}t \n",
    "    = \\frac{1}{T}\\int_{- T/2}^{+ T/2} \\cos((m-k)\\omega_0t) + j \\sin((m-k)\\omega_0t) \\mathrm{d}t = \\gamma(m-k)\n",
    "\\end{align}\n",
    "Das Ergebnis ist also nur dann ungleich Null, wenn die Frequenzen gleich sind, weil sonst periodische Funktionen über ganze Vielfache der Periodendauer integriert werden. Wenn das Verhältnis der Frequenzen also rational ist, sind die Schwingungen deshalb orthogonale Signale.\n",
    "\n",
    "Ein beliebiges periodisches Signal $x(t) = x(t+T)$ mit Periodendauer $T = \\frac{2 \\pi}{\\omega_0}$ kann über eine Fourierreihe dargestellt werden:\n",
    "\n",
    "\\begin{align}\n",
    "    x(t) = \\sum_{n=-\\infty}^{\\infty} X_n \\mathrm{e}^{jn\\omega_0t}\n",
    "\\end{align}\n",
    "Die AKF ergibt sich dann zu\n",
    "\n",
    "\\begin{align}\n",
    "    \\varphi^\\text{L}_{xx}(\\tau) &= \\frac{1}{T}\\int_{- T/2}^{+ T/2} x^{\\ast}(t) x(t+\\tau) \\mathrm{d}t\n",
    "    = \\frac{1}{T}\\int_{- T/2}^{+ T/2} \\left( \\sum_{m=-\\infty}^{\\infty} X_m \\mathrm{e}^{jm\\omega_0t} \\right)^{\\ast} \\left( \\sum_{k=-\\infty}^{\\infty} X_k \\mathrm{e}^{jk\\omega_0(t+\\tau)} \\right) \\mathrm{d}t \\\\\n",
    "    &= \\frac{1}{T}\\int_{- T/2}^{+ T/2} \\left( \\sum_{m=-\\infty}^{\\infty} X^{\\ast}_m \\mathrm{e}^{-jm\\omega_0t} \\right) \\left( \\sum_{k=-\\infty}^{\\infty} X_k \\mathrm{e}^{jk\\omega_0(t+\\tau)} \\right) \\mathrm{d}t\n",
    "    = \\sum_{m=-\\infty}^{\\infty} \\sum_{k=-\\infty}^{\\infty} X^{\\ast}_m X_k \\mathrm{e}^{jk\\omega_0\\tau} \\frac{1}{T}\\int_{- T/2}^{+ T/2} \\mathrm{e}^{j(k-m)\\omega_0t} \\mathrm{d}t \\\\\n",
    "    &= \\sum_{m=-\\infty}^{\\infty} \\sum_{k=-\\infty}^{\\infty} X^{\\ast}_m X_k \\mathrm{e}^{jk\\omega_0\\tau} \\gamma(k-m)\n",
    "    = \\sum_{k=-\\infty}^{\\infty} |X_k|^2 \\mathrm{e}^{jk\\omega_0\\tau}\n",
    "\\end{align}  \n",
    "\n",
    "Weil $\\gamma(k-m)$ nur für $m = k$ ungleich Null ist, gibt es deshalb für jeden Term der äußeren Summe nur den einen Summanden der inneren Summe, der übrig bleibt und eine der Summen kann weggelassen werden.\n",
    "\n",
    "\n",
    "Weil durch die Symmetrieanforderungen reeller Zeitsignale $X_{-k} = X^{\\ast}_k$ und damit auch  $|X_k|^2 = |X_{-k}|^2 $ gelten muss, enthält in diesem Fall die AKF nur Kosinusterme (und den Gleichanteil) und ist deshalb wie erwartet **immer** eine gerade Funktion:\n",
    "\n",
    "\\begin{align}\n",
    "   \\varphi^\\text{L}_{xx}(\\tau) &= |X_0|^2 + \\sum_{k=-\\infty}^{-1} |X_k|^2 \\mathrm{e}^{jk\\omega_0\\tau} + \\sum_{k=1}^{\\infty} |X_k|^2 \\mathrm{e}^{jk\\omega_0\\tau} \\\\\n",
    "    &= |X_0|^2  + \\sum_{k=1}^{\\infty} |X_k|^2 \\mathrm{e}^{jk\\omega_0\\tau} + |X_{-k}|^2 \\mathrm{e}^{-jk\\omega_0\\tau} \\\\\n",
    "    &= |X_0|^2  + \\sum_{k=1}^{\\infty} |X_k|^2 2 \\cos\\left(k\\omega_0\\tau\\right)\n",
    "\\end{align}\n",
    "\n",
    "Durch Fouriertransformation lässt sich dann das Leistungsdichtespektrum gewinnen:\n",
    "\n",
    "\\begin{align}\n",
    "    \\Phi^\\text{L}_{xx}(j\\omega) &=  \\mathcal{F} \\left\\{ \\varphi^\\text{L}_{xx}(\\tau) \\right\\} = \\sum_{k=-\\infty}^{\\infty} |X_k|^2 \\mathcal{F} \\left\\{ \\mathrm{e}^{jk\\omega_0\\tau} \\right\\} = \\sum_{k=-\\infty}^{\\infty} |X_k|^2 2\\pi \\delta (\\omega - k\\omega_0)\\\\\n",
    "    &= \\sum_{k=-\\infty}^{\\infty} |X_k|^2 2\\pi \\delta (\\omega - k\\omega_0) = |X_0|^2 2 \\pi \\delta (\\omega)  + \\sum_{k=1}^{\\infty} |X_k|^2 2 \\pi \\left( \\delta (\\omega - k\\omega_0) + \\delta (\\omega + k\\omega_0) \\right)\n",
    "\\end{align}\n",
    "\n",
    "Das Leistungsdichtespektrum ist für relle periodische Signale also **immer** rein reell."
   ]
  }
 ],
 "metadata": {
  "anaconda-cloud": {},
  "kernelspec": {
   "display_name": "Python [default]",
   "language": "python",
   "name": "python3"
  },
  "language_info": {
   "codemirror_mode": {
    "name": "ipython",
    "version": 3
   },
   "file_extension": ".py",
   "mimetype": "text/x-python",
   "name": "python",
   "nbconvert_exporter": "python",
   "pygments_lexer": "ipython3",
   "version": "3.5.2"
  }
 },
 "nbformat": 4,
 "nbformat_minor": 0
}
