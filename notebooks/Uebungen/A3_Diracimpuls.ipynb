{
 "cells": [
  {
   "cell_type": "code",
   "execution_count": null,
   "metadata": {
    "collapsed": false
   },
   "outputs": [],
   "source": [
    "import warnings\n",
    "warnings.filterwarnings('ignore')"
   ]
  },
  {
   "cell_type": "code",
   "execution_count": null,
   "metadata": {
    "collapsed": false,
    "scrolled": true
   },
   "outputs": [],
   "source": [
    "import numpy as np\n",
    "import matplotlib.pyplot as plt\n",
    "import ipywidgets as widget\n",
    "from IPython.display import display\n",
    "%matplotlib inline\n",
    "\n",
    "pi = np.math.pi\n",
    "\n",
    "def setLabels(lX, lY):\n",
    "    plt.xlabel(lX)\n",
    "    plt.ylabel(lY)\n",
    "\n",
    "plt.rcParams['font.size'] = 40\n",
    "plt.rcParams['figure.figsize'] = (40, 10)\n",
    "plt.rcParams['lines.linewidth'] = 2.0"
   ]
  },
  {
   "cell_type": "markdown",
   "metadata": {},
   "source": [
    "# Aufgabe 3: Diracimpuls\n",
    "\n",
    "Ein LTI-System antwortet auf das Signal $x_1(t)  = \\mathrm{\\Lambda} \\left(\\frac{t}{T} \\right)$ mit dem Ausgangssignal \n",
    "    $y_1(t) = \\frac{1}{2} \\left(\\mathrm{\\Lambda} \\left(\\frac{t}{T} \\right) + \\mathrm{\\Lambda} \\left(\\frac{t-T}{T} \\right) \\right)$."
   ]
  },
  {
   "cell_type": "markdown",
   "metadata": {},
   "source": [
    "## 3.1\n",
    "Berechnen und skizzieren Sie die Impulsantwort des Systems. Ist das System kausal?"
   ]
  },
  {
   "cell_type": "markdown",
   "metadata": {},
   "source": [
    "#### Lösung im Zeitbereich (nur für einfache Fälle):\n",
    "\\begin{align}\n",
    "    y_1(t)  = x_1(t) \\ast h(t) &= \\frac{1}{2} \\left(\\Lambda \\left(\\frac{t}{T} \\right) + \\mathrm{\\Lambda} \\left(\\frac{t-T}{T} \\right) \\right) \\\\\n",
    "    & = \\underbrace{\\mathrm{\\Lambda} \\left(\\frac{t}{T} \\right)}_{=x_1(t)} \\ast \\underbrace{\\frac{1}{2}\\left( \\mathrm{\\delta}(t) + \\mathrm{\\delta}(t-T) \\right)}_{=h(t)} \\\\\n",
    "    \\Rightarrow h(t) &= \\frac{1}{2}\\left( \\mathrm{\\delta}(t) + \\mathrm{\\delta}(t-T) \\right)\n",
    "\\end{align}  \n",
    "  \n",
    "Die Impulsantwort besteht aus zwei jeweils mit dem Faktor $w=1/2$ gewichteten Diracimpulsen bei $t=0$ und $t=T$. Durch das System wird also ein gewichteter Mittelwert zwischen dem Aktuellen und den um $T$ zurückliegenden Wert des Eingangssignals berechnet.  \n",
    "Diese Struktur tritt in der Praxis in vielfältiger Weise auf. Beispiele sind:\n",
    " - die kontinuierliche Darstellung von Digitalfiltern\n",
    " - die Realisierung von Filtern mit Laufzeitelementen wie z.B. Wellenleitern\n",
    " - Interferenzeffekte bei der Signalausbreitung\n",
    "    \n",
    "(z.B. Letzteres ist übrigens der Grund für Fading-Effekte bei Mehrwegeausbreitung, dazu mehr in der Veranstaltung Elemente digitaler Kommunikationssysteme)"
   ]
  },
  {
   "cell_type": "markdown",
   "metadata": {},
   "source": [
    "#### Graph der Impulsantwort $h(t)$"
   ]
  },
  {
   "cell_type": "code",
   "execution_count": null,
   "metadata": {
    "collapsed": false
   },
   "outputs": [],
   "source": [
    "plt.grid()\n",
    "plt.xlim((-1, 2))\n",
    "plt.ylim((-0.1, 1))\n",
    "plt.axvline(linewidth=0.75, color='k')\n",
    "plt.plot([0, 1], [1/2, 1/2], 'b^', markersize=25)\n",
    "plt.vlines([0, 1], 0, [1/2, 1/2], 'b')\n",
    "plt.axhline(linewidth=0.75, color='k')\n",
    "setLabels(r'$t/T$', r'$h(t)$')"
   ]
  },
  {
   "cell_type": "markdown",
   "metadata": {},
   "source": [
    "Das System ist kausal, da $h(t) = 0$ für $t < 0$."
   ]
  },
  {
   "cell_type": "markdown",
   "metadata": {},
   "source": [
    "#### Lösung im Frequenzbereich (allgemeingültiger):\n",
    "\n",
    "\\begin{align}\n",
    "    X_1(j\\omega) &= \\mathcal{F}\\left\\{x_1(t)\\right\\}  = \\mathcal{F}\\left\\{\\mathrm{\\Lambda} \\left(\\frac{t}{T} \\right)\\right\\} = T \\mathrm{si}^2\\left(\\frac{\\omega T}{2}\\right) \\\\[1em]\n",
    "    Y_1(j\\omega) &= \\mathcal{F}\\left\\{y_1(t)\\right\\}  \\\\\n",
    "    &= \\mathcal{F}\\left\\{\\frac{1}{2} \\left(\\mathrm{\\Lambda} \\left(\\frac{t}{T} \\right) + \\mathrm{\\Lambda} \\left(\\frac{t-T}{T} \\right) \\right)\\right\\} \\\\\n",
    "    &= \\frac{T}{2} \\left( \\mathrm{si}^2\\left(\\frac{\\omega T}{2}\\right) + \\mathrm{si}^2\\left(\\frac{\\omega T}{2}\\right) \\mathrm{e}^{-j\\omega T} \\right) \\\\\n",
    "    &= \\underbrace{T \\mathrm{si}^2\\left(\\frac{\\omega T}{2}\\right)}_{=X_1(j\\omega)} \\cdot \\underbrace{\\frac{1}{2}\\left( 1 + \\mathrm{e}^{-j\\omega T} \\right)}_{=H(j\\omega)} \\\\[1em]\n",
    "    \\Rightarrow H(j\\omega) &= \\frac{Y_1(j \\omega)}{X_1(j\\omega)} = \\frac{1}{2}\\left( 1 + \\mathrm{e}^{-j\\omega T} \\right) \\\\\n",
    "    h(t) &= \\mathcal{F}^{-1}\\left\\{ H(j\\omega)\\right\\} = \\frac{1}{2}\\left( \\mathrm{\\delta}(t) + \\mathrm{\\delta}(t-T) \\right)\n",
    "\\end{align}\n",
    "  \n",
    "Die Übertragungsfunktion ist periodisch in $\\omega$. Sie hat den Wert 1 für $\\omega = 2k \\frac{\\pi}{T}$ und den Wert 0 für $\\omega = (2k+1)\\cdot \\frac{\\pi}{T}$ mit $k \\in \\mathbb{Z}$.  \n",
    "Beschränkt man sich auf den Frequenzbereich $\\omega \\in \\left[ -\\frac{\\pi}{T}, \\frac{\\pi}{T} \\right]$, stellt das System einen (sehr breitbandigen) Tiefpass dar. Mittelwertbilder ergeben im Allgemeinen immer einen Tiefpass, da der Mittelwert eines konstantes Signals (reiner Gleichanteil, $\\omega = 0$) das Signal selbst ist und es deshalb unverändert durchgelassen wird."
   ]
  },
  {
   "cell_type": "markdown",
   "metadata": {},
   "source": [
    "#### Graph des Betrags der Übertragungsfunktion $|H(j\\omega)|$"
   ]
  },
  {
   "cell_type": "markdown",
   "metadata": {},
   "source": [
    "Der Betragsfrequenzgang des resultierenden Systems ist eine gerade periodische Funktion und lässt sich deshalb über eine Fourierreihe darstellen, die nur Kosinusterme enthalt:\n",
    "\\begin{align}\n",
    "    \\left| H(j\\omega) \\right| = \\sqrt{H(j\\omega)\\cdot H^{\\ast}(j\\omega)} &= \\sqrt{\\frac{1}{2}\\left( 1 + \\mathrm{e}^{-j\\omega T} \\right) \\cdot \\frac{1}{2}\\left( 1 + \\mathrm{e}^{j\\omega T} \\right)} \\\\\n",
    "    &= \\frac{1}{2} \\sqrt{1 + \\mathrm{e}^{j\\omega T} + \\mathrm{e}^{-j\\omega T} + 1} \\\\\n",
    "    &= \\frac{1}{2} \\sqrt{2 + 2 \\cos\\left(\\omega T\\right)}\n",
    "\\end{align}  \n",
    "Der Verlauf ist zwar stetig, aber nicht glatt."
   ]
  },
  {
   "cell_type": "code",
   "execution_count": null,
   "metadata": {
    "collapsed": false,
    "scrolled": true
   },
   "outputs": [],
   "source": [
    "wT = np.linspace(-3*pi, 3*pi, 1000)\n",
    "H = 1/2*(1 + np.exp(-1j*wT))\n",
    "\n",
    "plt.axvline(linewidth=0.75, color='k')\n",
    "plt.plot(wT/pi, np.abs(H))\n",
    "plt.axhline(linewidth=0.75, color='k')\n",
    "plt.ylim((-0.05, 1.05))\n",
    "plt.grid()\n",
    "setLabels(r'$\\omega T/\\pi$', r'$|H(j\\omega)|$')"
   ]
  },
  {
   "cell_type": "markdown",
   "metadata": {},
   "source": [
    "## 3.2:\n",
    "Berechnen sie die Antwort $y_2(t)$ des Systems auf das Engangssignal mit der Fouriertransformierten $X_2(j\\omega) = \\pi \\left(\\mathrm{\\delta}\\left(\\omega - \\frac{\\pi}{T}\\right) +  \\mathrm{\\delta} \\left(\\omega + \\frac{\\pi}{T}\\right) \\right)$."
   ]
  },
  {
   "cell_type": "markdown",
   "metadata": {},
   "source": [
    "#### Spektrum des Eingangssignals"
   ]
  },
  {
   "cell_type": "code",
   "execution_count": null,
   "metadata": {
    "collapsed": false,
    "scrolled": true
   },
   "outputs": [],
   "source": [
    "plt.grid()\n",
    "plt.xlim((-3, 3))\n",
    "plt.ylim((-0.1, 4))\n",
    "plt.axvline(linewidth=0.75, color='k')\n",
    "plt.plot([-1, 1], [pi, pi], 'b^', markersize=25)\n",
    "plt.vlines([-1, 1], 0, [pi, pi], 'b')\n",
    "plt.axhline(linewidth=0.75, color='k')\n",
    "setLabels(r'$\\omega T/\\pi$', r'$X_2(j\\omega)$')"
   ]
  },
  {
   "cell_type": "markdown",
   "metadata": {},
   "source": [
    "#### Lösung im Zeitbereich:\n",
    "\\begin{align}\n",
    "    x_2(t) &= \\mathcal{F}^{-1}\\left\\{X_2(j\\omega)\\right\\} = \\cos\\left(\\frac{\\pi t}{T}\\right) \\\\\n",
    "    y_2(t) &= x_2(t) \\ast h(t) = \\cos\\left(\\frac{\\pi t}{T}\\right) \\ast \\frac{1}{2}\\left( \\mathrm{\\delta}(t) + \\mathrm{\\delta}(t-T) \\right) \\\\\n",
    "        &= \\frac{1}{2}\\left( \\cos\\left(\\frac{\\pi t}{T}\\right) + \\cos\\left(\\frac{\\pi (t-T)}{T}\\right) \\right) \\\\\n",
    "        &= \\frac{1}{2}\\left( \\cos\\left(\\frac{\\pi t}{T}\\right) + \\cos\\left(\\frac{\\pi t}{T} -  \\pi \\right) \\right)\n",
    "\\end{align}\n",
    "\n",
    "Mit $\\cos(\\phi - \\pi) = -\\cos(\\phi)$ ergibt sich:\n",
    "\\begin{align}\n",
    "    y_2(t) &= \\frac{1}{2}\\left( \\cos\\left(\\frac{\\pi t}{T}\\right) - \\cos\\left(\\frac{\\pi t}{T}\\right)  \\right) \\\\\n",
    "    &= 0 \\quad \\forall t\n",
    "\\end{align}"
   ]
  },
  {
   "cell_type": "markdown",
   "metadata": {},
   "source": [
    "#### Lösung im Frequenzbereich:\n",
    "\\begin{align}\n",
    "    Y_2(j\\omega) &= X_2(j\\omega) \\cdot H(j\\omega) \\\\\n",
    "    &= \\pi \\left(\\mathrm{\\delta}\\left(\\omega - \\frac{\\pi}{T}\\right) +  \\mathrm{\\delta}\\left(\\omega + \\frac{\\pi}{T}\\right) \\right) \\cdot \\frac{1}{2}\\left( 1 + \\mathrm{e}^{-j\\omega T} \\right) \\\\\n",
    "    & = \\frac{\\pi}{2} \\left(\\mathrm{\\delta}\\left(\\omega - \\frac{\\pi}{T}\\right)\\cdot \\left( 1 + \\mathrm{e}^{-j\\frac{\\pi}{T} T} \\right)  +  \\mathrm{\\delta}\\left(\\omega + \\frac{\\pi}{T}\\right)\\cdot \\left( 1 + \\mathrm{e}^{j\\frac{\\pi}{T}T} \\right) \\right) \\\\\n",
    "    & = \\frac{\\pi}{2} \\left(\\mathrm{\\delta}\\left(\\omega - \\frac{\\pi}{T}\\right)\\cdot \\underbrace{\\left( 1 + \\mathrm{e}^{-j\\pi} \\right)}_{=0}  +  \\mathrm{\\delta}\\left(\\omega + \\frac{\\pi}{T}\\right)\\cdot \\underbrace{\\left( 1 + \\mathrm{e}^{j\\pi} \\right)}_{=0} \\right) \\quad = 0 \\\\[1em]\n",
    "    \\Rightarrow y_2(t) &= \\mathcal{F}^{-1}\\left\\{0\\right\\} = 0.\n",
    "\\end{align}"
   ]
  },
  {
   "cell_type": "markdown",
   "metadata": {},
   "source": [
    "#### Erklärung über den Zeitbereich:\n",
    "Durch das System wird das Eingangssignal mit einer um die Phase $\\pi$ verschobenen Version von sich selbst addiert. Dadurch ergibt sich destruktive Interferenz und das Ausgangssignal verschwindet.  \n",
    "#### Erklärung über den Frequenzbereich:\n",
    "Die vorgegebene Kosinusschwingung enthält lediglich die Frequenzen $-\\pi/T$ und $\\pi/T$.\n",
    "Die Übertragungsfunktion des Systems hat Nullstellen an diesen Frequenzen, weshalb das Eingangssignal komplett unterdrückt wird."
   ]
  },
  {
   "cell_type": "markdown",
   "metadata": {},
   "source": [
    "## 3.3 \n",
    "Wie lautet die Antwort $y_3(t)$ des Systems auf das Eingangssignal $x_3(t) = \\delta(bt)$, wobei $b \\neq 0$ ist? Skizzieren Sie das Ausgangssignal $y_3(t)$."
   ]
  },
  {
   "cell_type": "markdown",
   "metadata": {},
   "source": [
    "#### Auflösen von $\\delta(bt)$:\n",
    "\\begin{align}\n",
    "    &\\mathcal{F}^{-1}\\left\\{ \\mathcal{F}\\left\\{ \\mathrm{\\delta}(bt) \\right\\} \\right\\} \n",
    "    \\underset{\\text{Ähnl.-Satz}}{=} \\mathcal{F}^{-1} \\left\\{ \\frac{1}{|b|} \\cdot 1\\right \\} = \\frac{1}{|b|}\\delta(bt) \\\\[1em]\n",
    "    \\Rightarrow &\\mathrm{\\delta}(bt) = \\frac{1}{|b|}\\mathrm{\\delta}(bt)\n",
    "\\end{align}\n",
    "#### Lösung im Zeitbereich:\n",
    "\\begin{align}\n",
    "    y_3(t)  = h(t) \\ast x_3(t) &= \\frac{1}{2}\\left( \\mathrm{\\delta}(t) + \\mathrm{\\delta}(t-T) \\right) \\ast \\frac{1}{|b|}\\mathrm{\\delta}(bt) \\\\\n",
    "    &= \\frac{1}{2|b|}\\left( \\mathrm{\\delta}(t) + \\mathrm{\\delta}(t-T) \\right)\n",
    "    \\end{align}"
   ]
  },
  {
   "cell_type": "markdown",
   "metadata": {},
   "source": [
    "Auch hier ist sehr gut zu sehen, dass das Eingangssignal durch das System wiederholt wird."
   ]
  },
  {
   "cell_type": "markdown",
   "metadata": {},
   "source": [
    "#### Graph von $y_3(t)$ für $|b| = 2$"
   ]
  },
  {
   "cell_type": "code",
   "execution_count": null,
   "metadata": {
    "collapsed": false
   },
   "outputs": [],
   "source": [
    "plt.grid()\n",
    "plt.xlim((-1, 2))\n",
    "plt.ylim((-0.1, 1))\n",
    "plt.axvline(linewidth=0.75, color='k')\n",
    "plt.plot([0, 1], [1/4, 1/4], 'b^', markersize=25)\n",
    "plt.vlines([0, 1], 0, [1/4, 1/4], 'b')\n",
    "plt.axhline(linewidth=0.75, color='k')\n",
    "setLabels(r'$t/T$', r'$y_3(t)$')"
   ]
  },
  {
   "cell_type": "markdown",
   "metadata": {},
   "source": [
    "## 3.4 Kaskadierung von Systemen\n",
    "Wie lautet die Gesamtübertragungsfunktion $G(j\\omega)$?"
   ]
  },
  {
   "cell_type": "markdown",
   "metadata": {},
   "source": [
    "\\begin{align}\n",
    "    G(j\\omega) &= H(j\\omega)\\cdot H(j\\omega) \\\\\n",
    "    &= \\frac{1}{2}\\left( 1 + \\mathrm{e}^{-j\\omega T} \\right) \\cdot \\frac{1}{2}\\left( 1 + \\mathrm{e}^{-j\\omega T} \\right) \\\\\n",
    "    &= \\frac{1}{4}\\left( 1 + 2\\mathrm{e}^{-j\\omega T} + \\mathrm{e}^{-j2\\omega T} \\right)\n",
    "\\end{align}  \n",
    "  \n",
    "Die Übertragungsfunktion besteht wieder nur aus einer gewichteten Summe von frequenzabhängigen Phasenverschiebungstermen."
   ]
  },
  {
   "cell_type": "markdown",
   "metadata": {},
   "source": [
    "#### Graph von $|G(j\\omega)|$"
   ]
  },
  {
   "cell_type": "markdown",
   "metadata": {},
   "source": [
    "\\begin{align}\n",
    "    \\left|G(j\\omega) \\right|  = \\sqrt{G(j\\omega) \\cdot G^{\\ast}(j\\omega)} &= \\sqrt{\\frac{1}{4}\\left( 1 + 2\\mathrm{e}^{-j\\omega T} + \\mathrm{e}^{-j2\\omega T} \\right) \\cdot \\frac{1}{4}\\left( 1 + 2\\mathrm{e}^{j\\omega T} + \\mathrm{e}^{j2\\omega T} \\right)} \\\\\n",
    "    &= \\frac{1}{4} \\sqrt{ 1 + 2\\mathrm{e}^{-j\\omega T} + \\mathrm{e}^{-j2\\omega T} + 2\\mathrm{e}^{-j2\\omega T} + 4 + 2\\mathrm{e}^{j2\\omega T} + \\mathrm{e}^{j2\\omega T} + 2\\mathrm{e}^{j\\omega T} + 1 } \\\\\n",
    "    &= \\frac{1}{4} \\sqrt{6 + 8\\cos\\left(\\omega T\\right) + 2\\cos \\left( \\omega T \\right)}\n",
    "\\end{align}  \n",
    "  \n",
    "Der Frequenzgang hat also wieder den Betrag 1 bei $\\omega = 2k\\cdot \\pi $ und Nullstellen bei $\\omega  = (2k+1) \\cdot \\pi$. Der Verlauf ist jedoch glatter und steiler um die Maxima geworden."
   ]
  },
  {
   "cell_type": "code",
   "execution_count": null,
   "metadata": {
    "collapsed": false,
    "scrolled": false
   },
   "outputs": [],
   "source": [
    "G = H*H;\n",
    "plt.axvline(linewidth=0.75, color='k')    \n",
    "plt.plot(wT/pi, np.abs(G))\n",
    "plt.axhline(linewidth=0.75, color='k')\n",
    "plt.ylim((-0.05, 1.05))\n",
    "plt.grid()\n",
    "setLabels(r'$\\omega T/\\pi$', r'$|G(j\\omega)|$')"
   ]
  },
  {
   "cell_type": "markdown",
   "metadata": {},
   "source": [
    "## 3.6 Kausalität und Impulsantwort \n",
    "Ist das System kausal? Berechnen sie die Impulsantwort $g(t)$ des Systems einmal durch Rücktransformation und einmal direkt im Zeitbereich."
   ]
  },
  {
   "cell_type": "markdown",
   "metadata": {},
   "source": [
    "#### Kausalität:\n",
    "Das System ist kausal, da eine beliebige Verschaltung kausaler Systeme immer ein kausales System ergibt."
   ]
  },
  {
   "cell_type": "markdown",
   "metadata": {},
   "source": [
    "#### Impulsantwort durch Faltung im Zeitbereich:\n",
    "\\begin{align}\n",
    "    g(t) &= h(t) \\ast h(t) \\\\\n",
    "    &= \\frac{1}{2}\\left( \\mathrm{\\delta}(t) + \\mathrm{\\delta}(t-T) \\right) \\ast \\frac{1}{2}\\left( \\mathrm{\\delta}(t) + \\mathrm{\\delta}(t-T) \\right) \\\\\n",
    "    &= \\frac{1}{4}\\left( \\mathrm{\\delta}(t) \\ast \\mathrm{\\delta}(t) + \\mathrm{\\delta}(t) \\ast \\mathrm{\\delta}(t-T) + \\mathrm{\\delta}(t-T) \\ast \\mathrm{\\delta}(t) + \\mathrm{\\delta}(t-T) \\ast \\mathrm{\\delta}(t-T) \\right) \\\\\n",
    "    &= \\frac{1}{4}\\left( \\mathrm{\\delta}(t) + 2\\mathrm{\\delta}(t-T) + \\mathrm{\\delta}(t-2T) \\right)\n",
    "\\end{align}"
   ]
  },
  {
   "cell_type": "markdown",
   "metadata": {},
   "source": [
    "#### Impulsantwort durch Rücktransformation:\n",
    "\\begin{align}\n",
    "    g(t) &= \\mathcal{F}^{-1}\\left\\{ G(j\\omega)\\right\\} \\\\\n",
    "         &= \\mathcal{F}^{-1}\\left\\{ \\frac{1}{4}\\left( 1 + 2\\mathrm{e}^{-j\\omega T} + \\mathrm{e}^{-j2\\omega T}\n",
    "         \\right) \\right\\} \\\\\n",
    "         &= \\frac{1}{4}\\left( \\mathrm{\\delta}(t) + 2\\mathrm{\\delta}(t-T) + \\mathrm{\\delta}(t-2T) \\right)\n",
    "\\end{align}  \n",
    "Das resultierende System führt also wieder eine gewichtete Mittelung zwischen Werten des Eingangssignals zu verschiedenen Zeitpunkten durch. Die Gewichtungsfaktoren haben einen dreieckförmigen Verlauf."
   ]
  },
  {
   "cell_type": "markdown",
   "metadata": {},
   "source": [
    "### Zusatz: Kaskadierung beliebig vieler Systeme"
   ]
  },
  {
   "cell_type": "code",
   "execution_count": null,
   "metadata": {
    "collapsed": false,
    "scrolled": true
   },
   "outputs": [],
   "source": [
    "def plotV(log2_N):\n",
    "    pow = 2**log2_N\n",
    "    V = np.power(H, pow)\n",
    "    plt.axvline(linewidth=0.75, color='k')\n",
    "    hand =  plt.plot(wT/pi, np.abs(V), 'b',\n",
    "            label=r'$V(j\\omega) = |H(j\\omega)|^{'+ repr(int(pow)) + r'}$')\n",
    "    plt.axhline(linewidth=0.75, color='k')\n",
    "    plt.grid()\n",
    "    setLabels(r'$\\omega T/\\pi$', r'$|V(j\\omega)|$')\n",
    "    plt.ylim((-0.05, 1.05))\n",
    "    plt.legend(handles=hand, loc='upper center', \n",
    "               bbox_to_anchor=(0.5, 1.2), fontsize='medium')\n",
    "\n",
    "wdg1 = widget.interactive(plotV, log2_N = \n",
    "    widget.FloatSlider(min=0, max=10, step=1, value=0))\n",
    "display(wdg1)"
   ]
  },
  {
   "cell_type": "markdown",
   "metadata": {},
   "source": [
    "#### Warum dieses Ergebnis?\n",
    "Die ursprüngliche Impulsantwort $h(t)$ sorgt für eine gewichtete Mittelung der Eingangssignalwerte $x(t)$ und $x(t-T)$. Die Gewichtungsfaktoren sind beide gleich $1/2$. Dies entspricht einem diskreten Rechteckprofil. Die\n",
    "Hintereinanderschaltung $g(t)$ ist wieder eine gewichtete Mittelung und die Form der Gewichtungsfaktren ist durch die Faltung ein diskretes Dreieckprofil.  \n",
    "Wird diese Kaskadierung wiederholt, entsteht im Grenzfall ein Filter mit zunehmend längerer Impulsantwort, deren Gewichtungsfaktoren einem Gaußprofil folgen. Die Fouriertransformierte des diskreten Gaußprofils ist ein kontinuierliches, pierodisches Gaußprofil, weshalb die Übertragungsfunktion mit steigender Anzahl kaskadierter Systeme ebenfalls zunehmend gaußförmiger wird.  \n",
    "In Aufgabe 7 wird als diskretes Äquivalent ein sehr ähnliches System behandelt."
   ]
  }
 ],
 "metadata": {
  "kernelspec": {
   "display_name": "Python 3",
   "language": "python",
   "name": "python3"
  },
  "language_info": {
   "codemirror_mode": {
    "name": "ipython",
    "version": 3
   },
   "file_extension": ".py",
   "mimetype": "text/x-python",
   "name": "python",
   "nbconvert_exporter": "python",
   "pygments_lexer": "ipython3",
   "version": "3.4.3"
  }
 },
 "nbformat": 4,
 "nbformat_minor": 0
}
