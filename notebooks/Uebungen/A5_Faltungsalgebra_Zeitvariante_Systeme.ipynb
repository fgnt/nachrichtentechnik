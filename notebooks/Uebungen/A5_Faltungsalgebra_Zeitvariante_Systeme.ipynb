{
 "cells": [
  {
   "cell_type": "code",
   "execution_count": null,
   "metadata": {
    "collapsed": false
   },
   "outputs": [],
   "source": [
    "import numpy as np\n",
    "import matplotlib.pyplot as plt\n",
    "import ipywidgets as widget\n",
    "from IPython.display import display\n",
    "%matplotlib inline\n",
    "\n",
    "pi = np.math.pi\n",
    "\n",
    "def setLabels(lX, lY):\n",
    "    plt.xlabel(lX)\n",
    "    plt.ylabel(lY)\n",
    "    \n",
    "\n",
    "plt.rcParams['font.size'] = 40\n",
    "plt.rcParams['figure.figsize'] = (40, 10)\n",
    "plt.rcParams['lines.linewidth'] = 2.0"
   ]
  },
  {
   "cell_type": "code",
   "execution_count": null,
   "metadata": {
    "collapsed": false
   },
   "outputs": [],
   "source": [
    "def generate_impulse_sequence(x_n, F_cont):\n",
    "    return np.ravel(np.hstack((np.zeros( (x_n.size, int(F_cont - 1)) ), x_n[:,None] )))*F_cont"
   ]
  },
  {
   "cell_type": "markdown",
   "metadata": {},
   "source": [
    "# Aufgabe 5: Faltungsalgebra, Zeitvariante Systeme"
   ]
  },
  {
   "cell_type": "markdown",
   "metadata": {},
   "source": [
    "Im folgenden werden drei sehr ähnliche, zeitvariante Systeme miteinander vergleichen. Abgebildet ist jeweils das gestrichelte Eingangssignal und das Ausgangssignal einer linearen Torschaltung, einer Abtast-Halte-Schaltung und eines linearen Interpolators. Die Breite der Intervalle, in denen das Ausgangssignal ungleich Null ist, ist für die ersten beiden Schaltungen mit $t_0$ angegeben."
   ]
  },
  {
   "cell_type": "markdown",
   "metadata": {},
   "source": [
    "## Vorbemerkungen zur Rechnung mit dem Diracimpuls"
   ]
  },
  {
   "cell_type": "markdown",
   "metadata": {},
   "source": [
    "### Definition (etwas pragmatisch)\n",
    "\\begin{align}\n",
    "    \\mathrm{\\delta}(t-t_0) = \\begin{cases}\n",
    "        0\\ :& t\\neq t_0, \\\\\n",
    "        \\infty\\ :& t = t_0,\n",
    "    \\end{cases}\\\\[1em]\n",
    "    \\text{sodass} \\qquad \\int_{\\mathcal{T}: t_0 \\in \\mathcal{T}} \\mathrm{\\delta}(t-t_0) \\mathrm{d}t = 1\n",
    "\\end{align}\n",
    "\n",
    "### Ausblendeeigenschaft\n",
    "\\begin{align}\n",
    "    x(t) \\cdot \\mathrm{\\delta}(t-t_0) = x(t_0)\\mathrm{\\delta}(t-t_0)\n",
    "\\end{align}  \n",
    "Diese Eigenschaft folgt aus der Definition des Diracimpulses: Da der Impuls abgesehen von der Stelle $t_0$ überall Null ist, ist auch nur dieser eine Wert von $x$ relevant. Weil die Multiplikation distributiv ist, gilt die Ausblendeeigenschaft auch für einen Dirackamm:\n",
    "\\begin{align}\n",
    "    x(t) \\cdot \\sum_{n=-\\infty}^{\\infty} \\mathrm{\\delta}(t-nT) = \\sum_{n=-\\infty}^{\\infty} x(t)\\mathrm{\\delta}(t-nT) = \\sum_{n=-\\infty}^{\\infty} x(nT)\\mathrm{\\delta}(t-nT)\n",
    "\\end{align}  \n",
    "\n",
    "### Verschiebeeigenschaft:\n",
    "\\begin{align}\n",
    "    x(t) \\ast \\mathrm{\\delta}(t-T) &= \\int_{-\\infty}^{\\infty} x(\\tau) \\mathrm{\\delta}(t-t_0-\\tau)\\mathrm{d}\\tau \n",
    "        = \\int_{-\\infty}^{\\infty} \\underbrace{x(t-t_0)}_{\\text{unabh. von }\\tau} \\mathrm{\\delta}(t-t_0-\\tau)\\mathrm{d}\\tau \\\\\n",
    "        &= x(t-t_0) \\underbrace{\\int_{-\\infty}^{\\infty} \\mathrm{\\delta}(t-t_0-\\tau)\\mathrm{d}\\tau}_{=1 \\text{ nach Def.}} = x(t-t_0)\n",
    "\\end{align}  \n",
    "Die Faltung eines Signals mit einem verschobenen Diracimpuls ergibt also immer der verschobene Signal. Durch die Linearität der Faltung lässt sich auch die Verschiebeeigenschaft auf einen Dirackamm übertragen:\n",
    "\\begin{align}\n",
    "    x(t) \\ast \\sum_{n=-\\infty}^{\\infty} \\mathrm{\\delta}(t-nT) = \\sum_{n=-\\infty}^{\\infty} x(t) \\ast \\mathrm{\\delta}(t-nT) = \\sum_{n=-\\infty}^{\\infty} x(t-nT)\n",
    "\\end{align}"
   ]
  },
  {
   "cell_type": "markdown",
   "metadata": {},
   "source": [
    "### Transformationseigenschaften:\n",
    "Die Fouriertransformation eines verschobenen Diracimpulses ist ein Phasentherm. Dies lässt sich über die Ausblendeeigenschaft einfach zeigen:\n",
    "\\begin{align}\n",
    "    \\mathcal{F}\\left\\{ \\mathrm{\\delta}(t-t_0) \\right\\} = \\int_{-\\infty}^{\\infty} \\mathrm{\\delta}(t-t_0) \\mathrm{e}^{-j\\omega t} \\mathrm{d}t = \\int_{-\\infty}^{\\infty} \\mathrm{\\delta}(t-t_0) \\underbrace{\\mathrm{e}^{-j\\omega t_0}}_{\\text{unabh. von $t$!}} \\mathrm{d}t = \\mathrm{e}^{-j\\omega t_0}  \\underbrace{\\int_{-\\infty}^{\\infty} \\mathrm{\\delta}(t-t_0) \\mathrm{d}t}_{=1 \\text{ nach Def.}} = \\mathrm{e}^{-j\\omega t_0}\n",
    "\\end{align}  \n",
    "Dies ist auch konsistent mit dem Verschiebungssatz und dem Faltungssatz:\n",
    "\\begin{align}\n",
    "    \\mathcal{F}\\left\\{ x(t-t_0) \\right\\} = \\mathcal{F}\\left\\{ x(t) \\ast \\mathrm{\\delta}(t-t_0) \\right\\} = \n",
    "    \\mathcal{F}\\left\\{ x(t)\\right\\} \\cdot \\mathcal{F}\\left\\{ \\mathrm{\\delta}(t-t_0) \\right\\} = \n",
    "    X(j\\omega) \\mathrm{e}^{-j\\omega t_0}\n",
    "\\end{align}  \n",
    "  \n",
    "Für den Dirackamm gilt das Transformationspaar aus der Vorlesung:\n",
    "\\begin{align}\n",
    "    \\mathcal{F}\\left\\{ \\sum_{n=-\\infty}^{\\infty} \\mathrm{\\delta}(t-nT) \\right\\} \\overset{!}{=} \\frac{2 \\pi}{T} \\sum_{n=-\\infty}^{\\infty} \\mathrm{\\delta}\\left(\\omega -n\\frac{2 \\pi}{T}\\right)\n",
    "\\end{align}  \n",
    "Zur Erlangung von Gewissheit steht am Ende des Notebooks eine Herleitung dafür."
   ]
  },
  {
   "cell_type": "markdown",
   "metadata": {},
   "source": [
    "Mit diesem Transformationspaar ist die Poisson'sche Summenformel sehr einfach zu zeigen. Einerseits muss gelten:\n",
    "\\begin{align}\n",
    "    \\mathcal{F}\\left\\{ \\sum_{n=-\\infty}^{\\infty} x(nT) \\mathrm{\\delta}(t-nT) \\right\\}\n",
    "    = \\sum_{n=-\\infty}^{\\infty} x(nT) \\mathcal{F}\\left\\{ \\mathrm{\\delta}(t-nT) \\right\\}\n",
    "    = \\sum_{n=-\\infty}^{\\infty} x(nT) \\mathrm{e}^{-j\\omega nT}    \n",
    "\\end{align}  \n",
    "Andererseits gilt aber auch wegen der Ausblendeigenschaft und dem Multiplikationssatz:  \n",
    "  \n",
    "\\begin{align}\n",
    "    \\mathcal{F}\\left\\{ \\sum_{n=-\\infty}^{\\infty} x(nT) \\mathrm{\\delta}(t-nT) \\right\\}\n",
    "    &= \\mathcal{F}\\left\\{ x(t) \\cdot \\sum_{n=-\\infty}^{\\infty} \\mathrm{\\delta}(t-nT) \\right\\}\n",
    "    = \\frac{1}{2 \\pi} \\mathcal{F}\\left\\{ x(t) \\right\\} \\ast \\mathcal{F}\\left\\{ \\sum_{n=-\\infty}^{\\infty} \\mathrm{\\delta}(t-nT)  \\right\\} \\\\\n",
    "    &= \\frac{1}{2 \\pi} X(j\\omega) \\ast \\frac{2 \\pi}{T} \\sum_{n=-\\infty}^{\\infty} \\mathrm{\\delta}\\left(\\omega -n\\frac{2 \\pi}{T}\\right)\n",
    "    = \\frac{1}{T} \\sum_{n=-\\infty}^{\\infty} X\\left(\\omega -n\\frac{2 \\pi}{T}\\right)\n",
    "\\end{align}\n",
    "\n",
    "Und damit ist insgesamt gezeigt:  \n",
    "\\begin{align}\n",
    "    \\sum_{n=-\\infty}^{\\infty} x(nT) \\mathrm{e}^{-j\\omega nT}   \n",
    "     = \\frac{1}{T} \\sum_{n=-\\infty}^{\\infty} X\\left(\\omega -n\\frac{2 \\pi}{T}\\right)\n",
    "\\end{align}"
   ]
  },
  {
   "cell_type": "markdown",
   "metadata": {},
   "source": [
    "### Weitere Transformationspaare:\n",
    "Benötigt werden ferner:\n",
    "\\begin{align}\n",
    "    \\mathcal{F}\\left\\{\\mathrm{rect}\\left( t \\right) \\right\\} = \\mathrm{si}\\left( \\frac{\\omega}{2} \\right)\n",
    "    \\underset{\\text{Ähnlichkeitssatz}}{\\Rightarrow} \n",
    "    \\mathcal{F}\\left\\{\\mathrm{rect}\\left( \\frac{t}{t_0} \\right) \\right\\} = t_0 \\mathrm{si}\\left( \\frac{\\omega t_0}{2} \\right)\n",
    "\\end{align}\n",
    "sowie mit der Faltung\n",
    "\\begin{align}\n",
    "    \\mathrm{\\Lambda}\\left(\\frac{t}{T}\\right) = \\frac{1}{T} \\mathrm{rect}\\left(\\frac{t}{T}\\right) \\ast \\mathrm{rect}\\left(\\frac{t}{T}\\right)\n",
    "    \\underset{\\text{Faltungssatz}}{\\Rightarrow}\n",
    "    \\mathcal{F}\\left\\{\\mathrm{\\Lambda}\\left( \\frac{t}{T} \\right) \\right\\} = \\frac{1}{T} \\left(\\mathcal{F}\\left\\{ \\mathrm{rect}\\left( \\frac{t}{T} \\right)\\right\\} \\right)^2 = T \\mathrm{si}\\left( \\frac{\\omega T}{2} \\right)\n",
    "\\end{align}"
   ]
  },
  {
   "cell_type": "markdown",
   "metadata": {},
   "source": [
    "# Diagramme im Zeitbereich"
   ]
  },
  {
   "cell_type": "code",
   "execution_count": null,
   "metadata": {
    "collapsed": false,
    "scrolled": false
   },
   "outputs": [],
   "source": [
    "F_cont = 1000\n",
    "T = 1\n",
    "N_min = -3\n",
    "N_max = 4\n",
    "x_max = 35\n",
    "\n",
    "# discrete time domain signal\n",
    "n = np.arange(N_min, N_max + 1)\n",
    "x_n = x_max/(n**2 + 1)\n",
    "\n",
    "# continuuous time domain signal\n",
    "t = np.arange(N_min, N_max + 1, 1/F_cont)*T\n",
    "p_interpol = np.polyfit(n, x_n, x_n.size - 1)\n",
    "x_t = np.polyval(p_interpol, t)\n",
    "\n",
    "# sampled values for convolution\n",
    "x_samp = generate_impulse_sequence(x_n, F_cont)\n",
    "\n",
    "\n",
    "# helper function to stay DRY\n",
    "def plot_signal(axObj, signal, ylabel='', legendEntry=''):\n",
    "    axObj.plot(t, x_t, 'b--', label='Eingangssignal')\n",
    "    axObj.plot(n, x_n, 'ro', markersize=15)\n",
    "    axObj.plot(t, signal, 'r', label=legendEntry)\n",
    "    axObj.set_xlim((-0.5, 2.5))\n",
    "    axObj.set_ylim((-0.1, 40))\n",
    "    axObj.set_xticks(np.arange(0, 3))\n",
    "    axObj.set_yticks(np.arange(0, 50, 10))\n",
    "    axObj.set_xlabel(r'$t/T$')\n",
    "    axObj.set_ylabel(ylabel)\n",
    "    axObj.grid()\n",
    "    handles, labels = axObj.get_legend_handles_labels()\n",
    "    axObj.legend(handles, labels, loc='upper right', fontsize=30)\n",
    "\n",
    "def plot_time_domain(t_0):\n",
    "    fig1 = plt.figure()\n",
    "    \n",
    "    # linear gate circuit\n",
    "    gate = np.cos(2*pi*t/T) >= np.cos(pi*t_0)\n",
    "    x_lt = x_t*gate\n",
    "    ax1 = fig1.add_subplot(1, 3, 1)\n",
    "    plot_signal(ax1, x_lt, r'$x_{\\rm{LT}}(t)$', 'Lineare Torschaltung')\n",
    "\n",
    "    # sample and hold circuit\n",
    "    rect = (np.abs(t) < t_0*T/2)*1.0\n",
    "    x_sh = np.convolve(x_samp, rect, 'same')/F_cont\n",
    "    ax2 = fig1.add_subplot(1, 3, 2)\n",
    "    plot_signal(ax2, x_sh, r'$x_{\\rm{SH}}(t)$', 'Abtast-Halte-Glied')\n",
    "\n",
    "    # linear interpolation circuit\n",
    "    triangle = np.maximum((1 - abs(t/T)), 0)*1.0\n",
    "    x_li = np.convolve(x_samp, triangle, 'same')/F_cont\n",
    "    ax3 = fig1.add_subplot(1, 3, 3)\n",
    "    plot_signal(ax3, x_li, r'$x_{\\rm{LI}}(t)$', 'Linearer Interpolator')\n",
    "    ax3.plot(t, x_n[3]*triangle, 'g')\n",
    "    ax3.plot(t, x_n[4]*np.roll(triangle, F_cont), 'g')\n",
    "    ax3.plot(t, x_n[5]*np.roll(triangle, 2*F_cont), 'g')\n",
    "wdg1 = widget.interactive(plot_time_domain,\n",
    "        t_0=widget.FloatSlider(min=0, max=1.0, step=0.1, value=0.6))\n",
    "display(wdg1)"
   ]
  },
  {
   "cell_type": "markdown",
   "metadata": {},
   "source": [
    "## 5.1\n",
    "Beschreiben sie den Abtast- bzw. Rekonstruktionsvorgang im Zeit- und Frequenzbereich"
   ]
  },
  {
   "cell_type": "markdown",
   "metadata": {},
   "source": [
    "## 5.2\n",
    "Diskutieren sie mit Hilfe einer Skizze des Spektrums des abgetasteten Signals, ob das ursprüngliche Signal fehlerfrei zurückgewonnen werden kann."
   ]
  },
  {
   "cell_type": "code",
   "execution_count": null,
   "metadata": {
    "collapsed": false
   },
   "outputs": [],
   "source": [
    "omega = np.linspace(-8*pi/T, 8*pi/T, 16001)\n",
    "# omega_n = n_w*pi/T\n",
    "n_w = np.arange(-8, 9, 2)\n",
    "# input spectrum is chosen as rectangular\n",
    "X_w = abs(omega*2*T/pi) < 1"
   ]
  },
  {
   "cell_type": "markdown",
   "metadata": {},
   "source": [
    "Die Teilaufgaben werden gemeinsam für jedes der Systeme gelöst.\n",
    "Ziel für die Zeitbereichsdarstellung jedes Systems ist es, den Dirackamm freizustellen. Danach können dann die Transformationspaare benutzt werden, um den Ausdruck in den Spektralbereich zu transformieren. Anschließend kann das Ergebnis vereinfacht werden."
   ]
  },
  {
   "cell_type": "markdown",
   "metadata": {},
   "source": [
    "### a) Lineare Torschaltung:\n",
    "#### Zeitsignal:\n",
    "\\begin{align}\n",
    "x_\\text{LT}(t) &= x(t) \\sum_{n=-\\infty}^{\\infty} \\mathrm{rect}\\left(\\frac{t-nT}{t_0}\\right)\n",
    "    = x(t) \\left[ \\left(\\sum_{n=-\\infty}^{\\infty} \\mathrm{\\delta}\\left( t-nT \\right) \\right) \\ast \\mathrm{rect}\\left( \\frac{t}{t_0} \\right) \\right]\n",
    "\\end{align}\n",
    "#### Spektrum:\n",
    "\\begin{align}\n",
    "    X_\\text{LT}(j\\omega) &= \\mathcal{F}\\left\\{ x_\\text{LT}(t) \\right\\} = \\mathcal{F}\\left\\{ x(t) \\left[ \\left(\\sum_{n=-\\infty}^{\\infty} \\mathrm{\\delta}\\left( t-nT \\right) \\right) \\ast \\mathrm{rect}\\left( \\frac{t}{t_0} \\right) \\right] \\right\\} \\\\\n",
    "    &= \\frac{1}{2 \\pi} \\mathcal{F}\\left\\{ x(t) \\right\\} \\ast \\mathcal{F}\\left\\{\\left(\\sum_{n=-\\infty}^{\\infty} \\mathrm{\\delta}\\left( t-nT \\right) \\right) \\ast \\mathrm{rect}\\left( \\frac{t}{t_0} \\right) \\right\\} \\\\\n",
    "    &= \\frac{1}{2 \\pi} X(j\\omega) \\ast \\left[ \\mathcal{F}\\left\\{\\left(\\sum_{n=-\\infty}^{\\infty} \\mathrm{\\delta}\\left( t-nT \\right) \\right) \\right\\} \\cdot \\mathcal{F}\\left\\{\\mathrm{rect}\\left( \\frac{t}{t_0} \\right) \\right\\} \\right] \\\\\n",
    "    &= \\frac{1}{2 \\pi} X(j\\omega) \\ast \\left[ \\left(\\frac{2 \\pi}{T} \\sum_{n=-\\infty}^{\\infty} \\mathrm{\\delta}\\left(\\omega -n\\frac{2 \\pi}{T}\\right)\\right)\\  t_0 \\mathrm{si}\\left( \\frac{\\omega t_0}{2} \\right) \\right] \\\\\n",
    "    &= X(j\\omega) \\ast \\left[ \\sum_{n=-\\infty}^{\\infty} \\frac{t_0}{T} \\underbrace{\\mathrm{si}\\left( \\frac{n 2 \\pi t_0}{2 T} \\right)}_{\\text{unabh. von $\\omega$!}} \\mathrm{\\delta}\\left(\\omega -n\\frac{2 \\pi}{T}\\right)   \\right] \\\\\n",
    "    &= \\sum_{n=-\\infty}^{\\infty} \\frac{t_0}{T} \\mathrm{si}\\left( n\\pi \\frac{t_0}{T} \\right) X\\left(\\omega -n\\frac{2 \\pi}{T}\\right)\n",
    "\\end{align}\n"
   ]
  },
  {
   "cell_type": "code",
   "execution_count": null,
   "metadata": {
    "collapsed": false
   },
   "outputs": [],
   "source": [
    "def plot_LT_spectrum(t_0):\n",
    "    # get proper si function\n",
    "    def si_t0(omega):\n",
    "        return np.sinc(omega/(2*pi)*t_0)\n",
    "    \n",
    "    si_w = t_0*si_t0(omega)\n",
    "    si_disc = np.zeros(omega.shape)\n",
    "    si_disc[0::2*F_cont] = si_w[0::2*F_cont]*F_cont\n",
    "\n",
    "    # define X_LT\n",
    "    X_lt = np.convolve(X_w, si_disc, 'same')/F_cont\n",
    "\n",
    "    # plot X_w, X_LT and the si function\n",
    "    plt.figure()\n",
    "    plt.plot(omega*T/pi, X_w, 'r--', label=r'$X(j\\omega)$')\n",
    "    plt.plot(n_w, t_0/T*si_t0(n_w*pi/T), 'bo', markersize=15)\n",
    "    plt.plot(omega*T/pi, X_lt, 'b', label=r'$X_\\mathrm{LT}(j\\omega)$')\n",
    "    plt.plot(omega*T/pi, si_w, 'g', \n",
    "             label=r'$\\frac{t_0}{T}\\mathrm{si}\\left(\\frac{\\omega t_o}{2}\\right)$')\n",
    "    plt.ylim((-0.2, 1.1))\n",
    "    plt.xlabel(r'$\\omega/\\frac{\\pi}{T}$')\n",
    "    plt.grid()\n",
    "    handles, labels = plt.gca().get_legend_handles_labels()\n",
    "    plt.legend(handles, labels, loc='upper right', fontsize=30)\n",
    "\n",
    "wdg2 = widget.interactive(plot_LT_spectrum,\n",
    "        t_0=widget.FloatSlider(min=0, max=1.0, step=0.1, value=0.6))\n",
    "display(wdg2)"
   ]
  },
  {
   "cell_type": "markdown",
   "metadata": {},
   "source": [
    "### Rekonstruktion\n",
    "Es entsteht statt des gewünschten periodischen Spektrums ein Spektrum, dessen Wiederholungen mit dem von $\\omega$ unabhängigen Term $\\frac{t_0}{T} \\mathrm{si}\\left( n\\pi \\frac{t_0}{T}\\right)$ skaliert sind. Dies hat jedoch keine Auswirkungen auf die Rekonstruierbarkeit! Insbesondere ist der Term für $n=0$ gleich $\\frac{t_0}{T}$ und deshalb relativ einfach rückgängig zu machen. Zusätzlich müssen wie bei idealer Rekonstruktion die Wiederholungen durch ein ideales Tiefpassfilter unterdrückt werden:  \n",
    "\n",
    "\\begin{align}\n",
    "    X(j\\omega) = X_\\text{LT}(j\\omega)\\cdot H_\\text{R}(j\\omega) = X_\\text{LT}(j\\omega)\\cdot \\frac{T}{t_0} \\mathrm{rect} \\left( \\frac{\\omega}{2 \\pi/T} \\right)\n",
    "\\end{align}"
   ]
  },
  {
   "cell_type": "markdown",
   "metadata": {},
   "source": [
    "### b) Abtast-Halte-Glied:\n",
    "#### Zeitsignal:\n",
    "\\begin{align}\n",
    "x_\\text{SH}(t) &= \\sum_{n=-\\infty}^{\\infty} \\underbrace{x(nT)}_\\text{nicht zeitabh.} \\mathrm{rect}\\left(\\frac{t-nT}{t_0}\\right)\n",
    "    = \\left[ \\sum_{n=-\\infty}^{\\infty} x(nT) \\mathrm{\\delta}\\left( t-nT \\right)\\right]  \\ast \\mathrm{rect}\\left( \\frac{t}{t_0} \\right)\n",
    "\\end{align}  \n",
    "\n",
    "#### Spektrum:\n",
    "Hier kann die Poisson'sche Sumenformel verwendet werden:  \n",
    "\\begin{align}\n",
    "    X_\\text{SH}(j\\omega) &= \\mathcal{F}\\left\\{ x_\\text{SH}(t) \\right\\} \n",
    "    = \\mathcal{F}\\left\\{ \\left[ \\sum_{n=-\\infty}^{\\infty} x(nT) \\mathrm{\\delta}\\left( t-nT \\right) \\right] \\ast \\mathrm{rect}\\left( \\frac{t}{t_0} \\right) \\right\\} \\\\    \n",
    "    &= \\mathcal{F}\\left\\{ \\sum_{n=-\\infty}^{\\infty} x(nT) \\mathrm{\\delta}\\left( t-nT \\right) \\right\\} \\cdot \\mathcal{F}\\left\\{ \\mathrm{rect}\\left( \\frac{t}{t_0} \\right) \\right\\} \\\\\n",
    "    &= \\left[ \\frac{1}{T} \\sum_{n=-\\infty}^{\\infty} X\\left(\\omega -n\\frac{2 \\pi}{T}\\right)   \\right] \\cdot T \\mathrm{si}\\left( \\frac{\\omega T}{2} \\right) \\\\\n",
    "    &= \\left[\\sum_{n=-\\infty}^{\\infty} X\\left(\\omega -n\\frac{2 \\pi}{T}\\right)   \\right] \\mathrm{si}\\left( \\frac{\\omega T}{2} \\right)\n",
    "\\end{align}"
   ]
  },
  {
   "cell_type": "code",
   "execution_count": null,
   "metadata": {
    "collapsed": false
   },
   "outputs": [],
   "source": [
    "def plot_SH_spectrum(t_0):\n",
    "    # get proper si function\n",
    "    def si_t0(omega):\n",
    "        return np.sinc(omega/(2*pi)*t_0)\n",
    "\n",
    "    si_w = t_0/T*si_t0(omega)\n",
    "    si_disc = np.zeros(omega.shape)\n",
    "    delta = np.zeros(omega.shape)\n",
    "    delta[0::2*F_cont] = 1*F_cont\n",
    "\n",
    "    # define X_LT\n",
    "    X_sh = si_w*np.convolve(X_w, delta, 'same')/F_cont\n",
    "\n",
    "    # plot X_w, X_LT and the si function\n",
    "    plt.figure()\n",
    "    plt.plot(omega*T/pi, X_w, 'r--', label=r'$X(j\\omega)$')\n",
    "    plt.plot(n_w, t_0/T*si_t0(n_w*pi/T), 'bo', markersize=15)\n",
    "    plt.plot(omega*T/pi, X_sh, 'b', label=r'$X_\\mathrm{SH}(j\\omega)$')\n",
    "    plt.plot(omega*T/pi, si_w, 'g',\n",
    "             label=r'$\\frac{t_0}{T}\\mathrm{si}\\left(\\frac{\\omega t_o}{2}\\right)$')\n",
    "    plt.ylim((-0.2, 1.1))\n",
    "    plt.xlabel(r'$\\omega/\\frac{\\pi}{T}$')\n",
    "    plt.grid()\n",
    "    handles, labels = plt.gca().get_legend_handles_labels()\n",
    "    plt.legend(handles, labels, loc='upper right', fontsize=30)\n",
    "\n",
    "wdg3 = widget.interactive(plot_SH_spectrum,\n",
    "        t_0=widget.FloatSlider(min=0, max=1.0, step=0.1, value=0.6))\n",
    "display(wdg3)"
   ]
  },
  {
   "cell_type": "markdown",
   "metadata": {},
   "source": [
    "### Rekonstruktion\n",
    "Es entsteht statt des gewünschten periodischen Spektrums ein Spektrum, das mit dem von $\\omega$ **abhängigen** Term $\\frac{t_0}{T} \\mathrm{si}\\left(\\frac{\\omega t_0}{2}\\right)$ skaliert ist. Diese linearen Verzerrungen müssen durch ein inverses Filter ausgeglichen werden. Zusätzlich müssen wie bei idealer Rekonstruktion die Wiederholungen durch ein ideales Tiefpassfilter unterdrückt werden:\n",
    "\\begin{align}\n",
    "    X(j\\omega) = X_\\text{LT}(j\\omega)\\cdot H_\\text{R}(j\\omega) = X_\\text{LT}(j\\omega)\\cdot \\frac{\\frac{T}{t_0} \\mathrm{rect} \\left( \\frac{\\omega}{2 \\pi/T} \\right)}{\\mathrm{si}\\left(\\frac{\\omega t_0}{2}\\right)}\n",
    "\\end{align}  \n",
    "  \n",
    "Das gesuchte Entzerrungsfilter kann (näherungsweise) als Kaskadierung einer Verzögerung im Vorwärtspfad, einer Rückkopplung mit Verzögerung im Rückwärtspfad und eines idealen Differenzierers aufgebaut werden:\n",
    "\\begin{align}\n",
    "    \\frac{\\frac{T}{t_0}}{\\mathrm{si}\\left(\\frac{\\omega t_0}{2}\\right)} \n",
    "    = \\frac{\\frac{T}{t_0} \\left( 2 j \\frac{\\omega t_0}{2}\\right)}{\\mathrm{e}^{j\\frac{\\omega t_0}{2} } - \\mathrm{e}^{-j\\frac{\\omega t_0}{2} }}\n",
    "    = \\frac{j \\omega T}{\\mathrm{e}^{j\\frac{\\omega t_0}{2} }\\left(1  - \\mathrm{e}^{-j\\omega t_0 }\\right)}\n",
    "    = \\frac{j \\omega T}{\\left(1  - \\mathrm{e}^{-j\\omega t_0 }\\right)}\\mathrm{e}^{j\\frac{\\omega t_0}{2} }\n",
    "\\end{align}"
   ]
  },
  {
   "cell_type": "markdown",
   "metadata": {},
   "source": [
    "### c) Linearer Interpolator:\n",
    "#### Zeitsignal:\n",
    "Wie aus dem Diagramm hervorgeht, lässt sich die lineare Funktion zwischen zwei Abtastwerten durch Addition verschobener Dreiecke darstellen, die jeweils mit dem Abtastwert gewichtet wurden. Deshalb gilt für das Zeitsignal:\n",
    "\\begin{align}\n",
    "x_\\text{LI}(t) &= \\sum_{n=-\\infty}^{\\infty} x(nT)\\  \\mathrm{\\Lambda}\\left(\\frac{t-nT}{T}\\right)\n",
    "    = \\left[ \\sum_{n=-\\infty}^{\\infty} x(nT) \\mathrm{\\delta}\\left( t-nT \\right)\\right]  \\ast \\mathrm{\\Lambda}\\left( \\frac{t}{T} \\right)\n",
    "\\end{align}  \n",
    "Das Ergebnis ist dem der Abtast-Halte-Schaltung sehr ähnlich. Dies kann für die Spektrambereichsdarstellung ausgenutzt werden:\n",
    "#### Spektrum:\n",
    "Hier kann die Poisson'sche Sumenformel verwendet werden:  \n",
    "\\begin{align}\n",
    "    X_\\text{LI}(j\\omega) &= \\mathcal{F}\\left\\{ x_\\text{LI}(t) \\right\\} \n",
    "    = \\mathcal{F}\\left\\{ \\left[ \\sum_{n=-\\infty}^{\\infty} x(nT) \\mathrm{\\delta}\\left( t-nT \\right) \\right] \\ast \\mathrm{\\Lambda}\\left( \\frac{t}{T} \\right) \\right\\} \\\\    \n",
    "    &= \\mathcal{F}\\left\\{ \\sum_{n=-\\infty}^{\\infty} x(nT) \\mathrm{\\delta}\\left( t-nT \\right) \\right\\} \\cdot \\mathcal{F}\\left\\{ \\mathrm{\\Lambda}\\left( \\frac{t}{T} \\right) \\right\\} \\\\\n",
    "    &= \\left[ \\frac{1}{T} \\sum_{n=-\\infty}^{\\infty} X\\left(\\omega -n\\frac{2 \\pi}{T}\\right)   \\right] \\cdot T \\mathrm{si}^2\\left( \\frac{\\omega T}{2} \\right) \\\\\n",
    "    &= \\left[\\sum_{n=-\\infty}^{\\infty} X\\left(\\omega -n\\frac{2 \\pi}{T}\\right)   \\right] \\mathrm{si}^2\\left( \\frac{\\omega T}{2} \\right)\n",
    "\\end{align}"
   ]
  },
  {
   "cell_type": "code",
   "execution_count": null,
   "metadata": {
    "collapsed": false
   },
   "outputs": [],
   "source": [
    "# get proper si function\n",
    "def si_T(omega):\n",
    "    return np.sinc(omega/(2*pi)*T)\n",
    "\n",
    "si_w = si_T(omega)\n",
    "si_disc = np.zeros(omega.shape)\n",
    "delta = np.zeros(omega.shape)\n",
    "delta[0::2*F_cont] = 1*F_cont\n",
    "\n",
    "# define X_LT\n",
    "X_li = (si_w**2)*np.convolve(X_w, delta, 'same')/F_cont\n",
    "\n",
    "# plot X_w, X_LT and the si function\n",
    "plt.figure()\n",
    "plt.plot(omega*T/pi, X_w, 'r--', label=r'$X(j\\omega)$')\n",
    "plt.plot(n_w, si_T(n_w*pi/T)**2, 'bo', markersize=15)\n",
    "plt.plot(omega*T/pi, X_li, 'b', label=r'$X_\\mathrm{LI}(j\\omega)$')\n",
    "plt.plot(omega*T/pi, si_w**2, 'g',\n",
    "         label=r'$\\mathrm{si}^2\\left(\\frac{\\omega T}{2}\\right)$')\n",
    "plt.ylim((-0.2, 1.1))\n",
    "plt.xlabel(r'$\\omega/\\frac{\\pi}{T}$')\n",
    "plt.grid()\n",
    "handles, labels = plt.gca().get_legend_handles_labels()\n",
    "drop = plt.legend(handles, labels, loc='upper right', fontsize=30)"
   ]
  },
  {
   "cell_type": "markdown",
   "metadata": {},
   "source": [
    "### Rekonstruktion\n",
    "Analog zum Abtast-Halte-Glied gilt:  \n",
    "Es entsteht statt des gewünschten periodischen Spektrums ein Spektrum, das mit dem von $\\omega$ **abhängigen** Term $\\frac{t_0}{T} \\mathrm{si}^2\\left(\\frac{\\omega T}{2}\\right)$ skaliert ist. Diese linearen Verzerrungen müssen durch ein inverses Filter ausgeglichen werden. Zusätzlich müssen wie bei idealer Rekonstruktion die Wiederholungen durch ein ideales Tiefpassfilter unterdrückt werden:  \n",
    "\\begin{align}\n",
    "    X(j\\omega) = X_\\text{LI}(j\\omega)\\cdot H_\\text{R}(j\\omega) = X_\\text{LI}(j\\omega) \\cdot \\frac{\\mathrm{rect} \\left( \\frac{\\omega}{2 \\pi/T} \\right)}{\\mathrm{si}^2\\left(\\frac{\\omega T}{2}\\right)}\n",
    "\\end{align}  \n",
    "\n",
    "Das Entzerrungsfilter kann durch zweimalige Hintereinanderschaltung und Skalierung des Entzerrers für das Abtast-Halte-Glied aufgebaut werden."
   ]
  },
  {
   "cell_type": "markdown",
   "metadata": {},
   "source": [
    "## Nachtrag: Das Spektrum des Dirac-Kamms\n",
    "\n",
    "Das Transformationspaar aus der Vorlesung \n",
    "\\begin{align}\n",
    "    \\mathcal{F}\\left\\{ \\sum_{n=-\\infty}^{\\infty} \\mathrm{\\delta}(t-nT) \\right\\} \\overset{!}{=} \\frac{2 \\pi}{T} \\sum_{n=-\\infty}^{\\infty} \\mathrm{\\delta}\\left(\\omega -n\\frac{2 \\pi}{T}\\right)\n",
    "\\end{align}  \n",
    "lässt sich durch Verwendung von Methoden der Fouriertransformation und der Fourierreihenentwicklung gewinnen."
   ]
  },
  {
   "cell_type": "markdown",
   "metadata": {},
   "source": [
    "Zunächst wird die Fouriertransformierte zurück in den Zeitbereich gebracht:\n",
    "\\begin{align}\n",
    "    \\mathcal{F}^{-1}\\left\\{ \\frac{2 \\pi}{T} \\sum_{n=-\\infty}^{\\infty} \\mathrm{\\delta}\\left(\\omega -n\\frac{2 \\pi}{T}\\right) \\right\\} \n",
    "    &= \\frac{2 \\pi}{T} \\sum_{n=-\\infty}^{\\infty} \\mathcal{F}^{-1}\\left\\{ \\mathrm{\\delta}\\left(\\omega -n\\frac{2 \\pi}{T}\\right) \\right\\} \\\\ \n",
    "    &=\\frac{2 \\pi}{T} \\sum_{n=-\\infty}^{\\infty} \\frac{1}{2 \\pi}\\int_{-\\infty}^{\\infty} \\mathrm{\\delta}\\left(\\omega -n\\frac{2 \\pi}{T}\\right) \\mathrm{e}^{j \\omega t} \\mathrm{d}t \\\\\n",
    "    &= \\frac{1}{T} \\sum_{n=-\\infty}^{\\infty} \\mathrm{e}^{j n\\frac{2 \\pi}{T} t} \\int_{-\\infty}^{\\infty} \\mathrm{\\delta}\\left(\\omega -n\\frac{2 \\pi}{T}\\right) \\mathrm{d}t \\\\\n",
    "    &= \\frac{1}{T} \\sum_{n=-\\infty}^{\\infty} \\mathrm{e}^{j n\\frac{2 \\pi}{T} t}\n",
    "\\end{align}  \n",
    "Das Ergebnis ist eine Fourierreihe der Periodendauer $T$, bei der jeder Koeffizient gleich $\\frac{1}{T}$ ist. "
   ]
  },
  {
   "cell_type": "markdown",
   "metadata": {},
   "source": [
    "Eine nähere Betrachtung des Dirackamms im Zeitbereich lässt ebenfalls ein periodisches Signal erkennen, wiederum mit der Periodendauer $T$. Deshalb wird auch für das Zeitsignal eine Fourierreihe angesetzt:\n",
    "\\begin{align}\n",
    "    \\sum_{n=-\\infty}^{\\infty} \\mathrm{\\delta}(t-nT) = \\sum_{k=-\\infty}^{\\infty} \\Delta_k \\mathrm{e}^{j k\\frac{2 \\pi}{T} t}\n",
    "\\end{align}"
   ]
  },
  {
   "cell_type": "markdown",
   "metadata": {},
   "source": [
    "Die benötigten Koeffizienten $\\Delta_k$ können durch Skalarproduktbildung der Zeitfunktion mit der zugehörigen konjugierten Exponentialschwingung der Frequenz $k\\frac{2 \\pi}{T}$ ermittelt werden, also der Mittelwertbildung über das Produkt der Zeitfunktionen:\n",
    "\\begin{align}\n",
    "    \\Delta_k &= \\frac{1}{T}\\int_{-T/2}^{T/2}\\underbrace{\\left[\\sum_{n=-\\infty}^{\\infty} \\mathrm{\\delta}(t-nT)\\right]}_{\\text{nur für $n=0$ innerhalb der Grenzen}} \\mathrm{e}^{-j k\\frac{2 \\pi}{T} t} \\mathrm{d}t \\\\\n",
    "    &=  \\frac{1}{T}\\int_{-T/2}^{T/2} \\mathrm{\\delta}(t)\\mathrm{e}^{-j k\\frac{2 \\pi}{T} t}  \\mathrm{d}t \\\\\n",
    "    &= \\frac{1}{T}\\int_{-T/2}^{T/2} \\mathrm{\\delta}(t)\\mathrm{e}^{-j 0} \\mathrm{d}t = \\frac{1}{T}\n",
    "\\end{align}\n",
    "Die gesuchten Fourierkoeffizienten sind also ebenfalls konstant gleich $\\frac{1}{T}$."
   ]
  },
  {
   "cell_type": "markdown",
   "metadata": {},
   "source": [
    "Damit erhält man das gewünschte Ergebnis:\n",
    "\\begin{align}\n",
    "    \\sum_{n=-\\infty}^{\\infty} \\mathrm{\\delta}(t-nT) = \\frac{1}{T} \\sum_{n=-\\infty}^{\\infty} \\mathrm{e}^{j n\\frac{2 \\pi}{T} t} = \\mathcal{F}^{-1}\\left\\{ \\frac{2 \\pi}{T} \\sum_{n=-\\infty}^{\\infty} \\mathrm{\\delta}\\left(\\omega -n\\frac{2 \\pi}{T}\\right) \\right\\}\n",
    "\\end{align}"
   ]
  }
 ],
 "metadata": {
  "kernelspec": {
   "display_name": "Python 3",
   "language": "python",
   "name": "python3"
  },
  "language_info": {
   "codemirror_mode": {
    "name": "ipython",
    "version": 3
   },
   "file_extension": ".py",
   "mimetype": "text/x-python",
   "name": "python",
   "nbconvert_exporter": "python",
   "pygments_lexer": "ipython3",
   "version": "3.4.3"
  }
 },
 "nbformat": 4,
 "nbformat_minor": 0
}
