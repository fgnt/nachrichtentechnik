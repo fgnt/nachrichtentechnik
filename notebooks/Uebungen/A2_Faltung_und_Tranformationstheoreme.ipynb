{
 "cells": [
  {
   "cell_type": "code",
   "execution_count": null,
   "metadata": {
    "collapsed": true
   },
   "outputs": [],
   "source": [
    "import warnings\n",
    "warnings.filterwarnings('ignore')"
   ]
  },
  {
   "cell_type": "code",
   "execution_count": null,
   "metadata": {
    "collapsed": false
   },
   "outputs": [],
   "source": [
    "import numpy as np\n",
    "import matplotlib.pyplot as plt\n",
    "import ipywidgets as widget\n",
    "from IPython.display import display\n",
    "import scipy.signal as sig\n",
    "%matplotlib inline\n",
    "\n",
    "pi = np.math.pi\n",
    "\n",
    "def setLabels(lX, lY):\n",
    "    plt.xlabel(lX)\n",
    "    plt.ylabel(lY)\n",
    "\n",
    "plt.rcParams['font.size'] = 40\n",
    "plt.rcParams['figure.figsize'] = (40, 10)\n",
    "plt.rcParams['lines.linewidth'] = 2.0\n",
    "plt.rcParams['figure.subplot.hspace'] = 0.4"
   ]
  },
  {
   "cell_type": "markdown",
   "metadata": {},
   "source": [
    "# Aufgabe 2: Faltung und Transformationstheoreme\n",
    "\n",
    "Die Impulsantwort eines LTI-Systems lautet:\n",
    "\\begin{align}\n",
    "    h(t) = \\mathrm{rect}\\left(\\frac{t}{T}\\right), \\quad T > 0.\n",
    "\\end{align}"
   ]
  },
  {
   "cell_type": "markdown",
   "metadata": {},
   "source": [
    "#### Graphische Darstellung der Impulsantwort"
   ]
  },
  {
   "cell_type": "code",
   "execution_count": null,
   "metadata": {
    "collapsed": false,
    "scrolled": true
   },
   "outputs": [],
   "source": [
    "N = 3*1000\n",
    "T = 1\n",
    "T_d = 6*T\n",
    "samples_per_unit = N/T_d\n",
    "crest_factor = samples_per_unit\n",
    "\n",
    "t = np.linspace(-T_d/2, T_d/2, N)\n",
    "h = np.zeros(t.shape)\n",
    "h[(t >= -T/2) & (t <= T/2)] = 1\n",
    "plt.grid()\n",
    "plt.xlim((-3, 3))\n",
    "plt.ylim((-0.1, 1.1))\n",
    "plt.axvline(linewidth=0.75, color='k')\n",
    "plt.plot(t/T, h, 'b-')\n",
    "plt.axhline(linewidth=0.75, color='k')\n",
    "setLabels(r'$t/T$', r'$h(t)$')"
   ]
  },
  {
   "cell_type": "markdown",
   "metadata": {},
   "source": [
    "## 2.1\n",
    "Ist das System kausal?"
   ]
  },
  {
   "cell_type": "markdown",
   "metadata": {},
   "source": [
    "Für ein kausales System muss gelten:\n",
    "\\begin{align}\n",
    "    h(t) = 0 \\quad \\forall t < 0\n",
    "\\end{align}\n",
    "Das System ist nicht kausal, da $h(t) \\neq 0$ für $t \\in [-T/2, 0] < 0$ gilt."
   ]
  },
  {
   "cell_type": "markdown",
   "metadata": {},
   "source": [
    "## 2.2\n",
    "Bestimmen **und** skizzieren Sie die Antwort $y_1(t)$ des Systems auf das Eingangssignal $x_1(t) = \\mathrm{rect}\\left(\\frac{t}{T}\\right)$."
   ]
  },
  {
   "cell_type": "markdown",
   "metadata": {},
   "source": [
    "\\begin{align}\n",
    "        y_1(t) &= x_1(t) \\ast h(t) \\\\\n",
    "    &= \\mathrm{rect}\\left( \\frac{t}{T} \\right) \\ast \\mathrm{rect}\\left( \\frac{t}{T} \\right)\n",
    "    \\end{align}\n",
    "#### Faltungssatz:\n",
    "\\begin{align}\n",
    "    \\mathcal{F}\\left\\{ x_1(t) \\ast x_2(t) \\right\\} = X_1(j\\omega) \\cdot X_2(j\\omega)\n",
    "    \\end{align}\n",
    "#### Ähnlichkeitssatz:\n",
    "\\begin{align}\n",
    "    &\\mathcal{F}\\left\\{x(at) \\right\\} = \\frac{1}{|a|} X \\left(j\\frac{\\omega}{a} \\right) \\\\\n",
    "    \\Rightarrow &\\mathcal{F}\\left\\{ \\mathrm{rect}\\left(\\frac{t}{T}\\right) \\right \\} = T \\mathrm{si}\\left( \\frac{\\omega T}{2} \\right)\n",
    "\\end{align}\n",
    "#### a) Lösung im Frequenzbereich:\n",
    "\\begin{align}\n",
    "    Y_1(j\\omega) &= X_1(j\\omega) \\cdot H(j\\omega) \\\\\n",
    "    &= \\left( T \\mathrm{si}\\left( \\frac{\\omega T}{2} \\right) \\right) \\cdot \\left( T \\mathrm{si}\\left( \\frac{\\omega T}{2} \\right) \\right) \\\\\n",
    "    &= T \\cdot T\\mathrm{si}^2\\left( \\frac{\\omega T}{2} \\right) \\\\\n",
    "    \\Rightarrow y_1(t) &= T \\cdot \\mathcal{F}^{-1}\\left\\{ T\\mathrm{si}^2\\left( \\frac{\\omega T}{2} \\right) \\right\\} \\\\\n",
    "    &= T \\mathrm{\\Lambda} \\left(\\frac{t}{T}\\right)\n",
    "\\end{align}\n",
    "#### b) (graphische Lösung)"
   ]
  },
  {
   "cell_type": "markdown",
   "metadata": {},
   "source": [
    "#### Graphische Darstellung von $y_1(t)$"
   ]
  },
  {
   "cell_type": "code",
   "execution_count": null,
   "metadata": {
    "collapsed": false,
    "scrolled": false
   },
   "outputs": [],
   "source": [
    "# Define x_1(t) here:\n",
    "x1 = h\n",
    "#x1 = np.copy(np.roll(h, -int(samples_per_sec)))\n",
    "#omega_s = 2*pi*(1/(T/8))\n",
    "#x1 = np.sin(omega_s*t);\n",
    "\n",
    "# define h(t) here:\n",
    "h_local = h \n",
    "#tau = T_d/12\n",
    "#h_local = (t >= 0)*1/tau*np.exp(-t/tau)\n",
    "\n",
    "# get y_2(t)\n",
    "y1 = sig.convolve(h_local, x1, 'same')/crest_factor\n",
    "\n",
    "zeroFunc = np.zeros(h.shape)\n",
    "ax1_ylower = min(min(x1), min(h))\n",
    "ax1_yupper = max(max(x1), max(h))\n",
    "\n",
    "ax2_ylower = min(y1)\n",
    "ax2_yupper = max(y1)\n",
    "def LTI_convolution(shift):\n",
    "    shift_in_samples = int(shift * samples_per_unit)    \n",
    "\n",
    "    h_shifted_and_inverted = np.roll(np.flipud(h_local), shift_in_samples)\n",
    "    temp = x1 * h_shifted_and_inverted;\n",
    "    y1_current_value = np.trapz(temp)/crest_factor\n",
    "\n",
    "    # first plot: impulse response and input signal\n",
    "    # area under product\n",
    "    fig1 = plt.figure();\n",
    "    ax1 = fig1.add_subplot(2, 1, 1,\n",
    "        xlim = (-1.5*T, 1.5*T),\n",
    "        ylim = (1.1*ax1_ylower, 1.1*ax1_yupper),\n",
    "        xlabel = r'$\\tau/T$',\n",
    "        ylabel = r'$x_1(\\tau), h(-(\\tau-t))$')\n",
    "\n",
    "    ax1.axvline(linewidth=0.75, color='k')\n",
    "    ax1.plot(t/T, x1, color = 'k')\n",
    "        \n",
    "    ax1.plot(t/T, h_shifted_and_inverted, color='b')\n",
    "    ax1.fill_between(t/T, 0, temp, facecolor='r')\n",
    "    ax1.axhline(linewidth=0.75, color='k')\n",
    "    ax1.grid()\n",
    "\n",
    "    # second plot: output signal\n",
    "    ax2 = fig1.add_subplot(2, 1, 2,\n",
    "        xlim = (-1.5*T, 1.5*T),\n",
    "        ylim = (1.1*ax2_ylower, 1.1*ax2_yupper),\n",
    "        xlabel = r'$t/T$',\n",
    "        ylabel = r'$y_1(t)$')\n",
    "    ax2.axvline(linewidth=0.75, color='k')\n",
    "    ax2.plot(t/T, y1, 'b-')\n",
    "    ax2.grid()\n",
    "    mline, sline, baseline = ax2.stem([shift],\n",
    "            [y1_current_value], color='r')\n",
    "    plt.setp(mline, 'markerfacecolor', 'r')\n",
    "    plt.setp(sline, color='r')\n",
    "    ax2.axhline(linewidth=0.75, color='k')\n",
    "    \n",
    "\n",
    "wdg1 = widget.interactive(LTI_convolution, shift = \n",
    "    widget.FloatSlider(min = -T, max = T, step = 0.1, value = 0.0))\n",
    "ret = display(wdg1)"
   ]
  },
  {
   "cell_type": "markdown",
   "metadata": {},
   "source": [
    "## 2.3\n",
    "Bestimmen **und** skizzieren sie die Antwort $y_2(t)$ des Systems auf das Eingangssignal $x_2(t) = \\mathrm{rect}\\left(\\frac{2 t}{T} - \\frac{3}{2}\\right)$."
   ]
  },
  {
   "cell_type": "markdown",
   "metadata": {},
   "source": [
    "#### Umschreiben des Signals:\n",
    "\\begin{align}\n",
    "    x_2(t) &= \\mathrm{rect} \\left( \\frac{2 t}{T} - \\frac{3}{2} \\right) \\\\\n",
    "    &= \\mathrm{rect} \\left( \\frac{ 2 t - 3T/2}{T} \\right) \\\\\n",
    "    &= \\mathrm{rect} \\left( \\frac{ t - 3T/4}{T/2} \\right) \\\\\n",
    "    &= \\underbrace{ \\mathrm{rect} \\left( \\frac{t}{T/2} \\right)}_{:= \\tilde{x}_2(t)} \\ast \\delta\\left(t - 3T/4\\right)\n",
    "\\end{align}"
   ]
  },
  {
   "cell_type": "markdown",
   "metadata": {},
   "source": [
    "#### Faltung mit unverschobenen Signalen:\n",
    "\\begin{align}\n",
    "    \\tilde{y}_2(t) &= \\tilde{x}_2(t) \\ast h(t) \\\\\n",
    "        &= \\mathrm{rect}\\left( \\frac{t}{T/2} \\right) \\ast \\mathrm{rect}\\left( \\frac{t}{T} \\right)\n",
    "\\end{align}"
   ]
  },
  {
   "cell_type": "markdown",
   "metadata": {},
   "source": [
    "#### a) Lösung mit Zerlegung:\n",
    "\\begin{align}\n",
    "    \\mathrm{rect}\\left( \\frac{t}{T} \\right) &= \\mathrm{rect}\\left( \\frac{t-t/4}{T/2} \\right) + \\mathrm{rect}\\left( \\frac{t+T/4}{T/2} \\right) \\\\\n",
    "    &= \\mathrm{rect}\\left( \\frac{t}{T/2} \\right) \\ast \\left( \\delta\\left(t - T/4\\right) + \\delta\\left(t + T/4\\right)  \\right) \\\\[1em]\n",
    "    \\Rightarrow \\tilde{y}_2(t) &= \\mathrm{rect}\\left( \\frac{t}{T/2} \\right) \\ast \\mathrm{rect}\\left( \\frac{t}{T/2} \\right) \\ast \\left( \\delta\\left(t - T/4\\right) + \\delta\\left(t + T/4\\right) \\right) \\\\\n",
    "    &\\underset{\\text{äquiv. zu 2.1)}}{=} \\frac{T}{2} \\left( \\mathrm{\\Lambda}\\left(\\frac{t-T/4}{T/2}\\right) + \\mathrm{\\Lambda}\\left(\\frac{t+T/4}{T/2}\\right) \\right) \\\\[1em]\n",
    "    \\Rightarrow y_2(t) &= \\tilde{y}_2(t) \\ast \\delta(t - 3T/4) = \\frac{T}{2} \\left( \\mathrm{\\Lambda}\\left(\\frac{t-T}{T/2}\\right) + \\mathrm{\\Lambda}\\left(\\frac{t-T/2}{T/2}\\right) \\right)\n",
    "\\end{align}"
   ]
  },
  {
   "cell_type": "markdown",
   "metadata": {},
   "source": [
    "#### Graphische Darstellung von $y_2(t)$:"
   ]
  },
  {
   "cell_type": "code",
   "execution_count": null,
   "metadata": {
    "collapsed": false
   },
   "outputs": [],
   "source": [
    "r = np.zeros(t.shape)\n",
    "r[(t >= -T/4) & (t <= T/4)] = 1\n",
    "tri = sig.convolve(r, r, 'same')/(crest_factor)\n",
    "\n",
    "u1 = np.roll(tri, int(T/2*crest_factor))\n",
    "u2 = np.roll(tri, int(T*crest_factor))\n",
    "\n",
    "plt.axvline(linewidth=0.75, color='k')\n",
    "plt.plot(t/T, u1, 'r-')\n",
    "plt.plot(t/T, u2, 'r-')\n",
    "plt.plot(t/T, u1 + u2, 'b-')\n",
    "plt.axhline(linewidth=0.75, color='k')\n",
    "plt.grid()\n",
    "plt.xlim((-T/2, 2*T))\n",
    "plt.ylim((-0.1, 1.1*max(u1)))\n",
    "setLabels(r'$t/T$', r'$y_2(t)$')"
   ]
  },
  {
   "cell_type": "markdown",
   "metadata": {},
   "source": [
    "#### b) Teilweises Lösen im Frequenzbereich:\n",
    "\\begin{align}\n",
    "    \\mathcal{F}\\left\\{ \\tilde{y}_2(t) \\right\\} &= \\mathcal{F} \\left\\{ \\mathrm{rect}\\left( \\frac{t}{T/2} \\right) \\ast \\mathrm{rect}\\left( \\frac{t}{T} \\right) \\right\\} \\\\\n",
    "    &= \\mathcal{F}\\left \\{ \\mathrm{rect}\\left( \\frac{t}{T/2} \\right) \\right\\} \\cdot \\mathcal{F}\\left \\{ \\mathrm{rect}\\left( \\frac{t}{T} \\right) \\right\\} \\\\\n",
    "        &= T \\mathrm{si} \\left( \\frac{\\omega T}{2} \\right) \\cdot \\frac{T}{2} \\mathrm{si} \\left( \\frac{\\omega T}{4} \\right) \\\\\n",
    "\\end{align}\n",
    "\n",
    "Hilfsrechnung:\n",
    "\\begin{align}\n",
    "    \\mathrm{si}\\left( \\frac{\\omega T}{2} \\right) = \\frac{ \\mathrm{e}^{j \\omega \\frac{T}{2}} - \\mathrm{e}^{-j \\omega \\frac{T}{2}} }{2j \\frac{\\omega T}{2} }\n",
    "    \\underset{\\text{3. Bin. Formel}}{=} \\frac{ \\mathrm{e}^{j \\omega \\frac{T}{4}} - \\mathrm{e}^{-j \\omega \\frac{T}{4}} }{2j \\frac{\\omega T}{4} } \\cdot \\frac{ \\mathrm{e}^{j \\omega \\frac{T}{4}} + \\mathrm{e}^{-j \\omega \\frac{T}{4}} }{2} \\quad \n",
    "    \\left( = \\mathrm{si}\\left( \\frac{\\omega T}{2} \\right) \\cos \\left( \\frac{\\omega T}{4} \\right) \\right)\n",
    "\\end{align}\n",
    "#### Damit folgt:\n",
    "\\begin{align}\n",
    "    \\Rightarrow \\tilde{Y}_2(j\\omega) = \\mathcal{F}\\left\\{ \\tilde{y}_2(t) \\right\\} &= \\left(\\frac{T}{2}\\right)^2 \\mathrm{si}^2 \\left( \\frac{\\omega T}{4} \\right) \\cdot \\left( \\mathrm{e}^{-j \\omega \\frac{T}{4}} + \\mathrm{e}^{j \\omega \\frac{T}{4}} \\right) \\\\[1em]\n",
    "    \\Rightarrow \\tilde{y}_2(t) &= \\frac{T}{2}\\cdot \\mathrm{\\Lambda}\\left(\\frac{t}{T/2}\\right) \\ast \\left(\\delta(t-T/4) + \\delta(t+t/4) \\right) \\\\\n",
    "        &= \\frac{T}{2} \\left( \\mathrm{\\Lambda}\\left(\\frac{t-T/4}{T/2}\\right) + \\mathrm{\\Lambda}\\left(\\frac{t+T/4}{T/2}\\right) \\right) \\\\\n",
    "    \\Rightarrow y_2(t) &= \\tilde{y}_2(t) \\ast \\delta(t - 3T/4) = \\left( \\mathrm{\\Lambda}\\left(\\frac{t-T}{T/2}\\right) + \\mathrm{\\Lambda}\\left(\\frac{t-T/2}{T/2}\\right) \\right)    \n",
    "\\end{align}    "
   ]
  },
  {
   "cell_type": "markdown",
   "metadata": {},
   "source": [
    "## 2.4\n",
    "Berechnen sie die Fouriertransformierte $Y_1(j\\omega)$ des Ausgangssignals $y_1(t)$."
   ]
  },
  {
   "cell_type": "markdown",
   "metadata": {},
   "source": [
    "\\begin{align}\n",
    "        Y_1(j\\omega) &= \\mathcal{F} \\left\\{y_1(t) \\right \\} \\\\\n",
    "        &= \\mathcal{F}\\left\\{ x_1(t) \\ast h(t) \\right\\} \\\\\n",
    "        &= X_1(j\\omega) \\cdot H(j\\omega) \\\\ \n",
    "        \\text{(Ähnlichkeitstheorem / 2.1a)} &= T \\mathrm{si}\\left( \\frac{\\omega T}{2} \\right) \\cdot T \\mathrm{si}\\left( \\frac{\\omega T}{2} \\right)  \\\\\n",
    "        &= T^2 \\mathrm{si}^2 \\left( \\frac{\\omega T}{2} \\right)\n",
    "\\end{align}\n",
    "oder\n",
    "\\begin{align}\n",
    "    Y_1(j\\omega) &= \\mathcal{F} \\left\\{y_1(t) \\right \\} \\\\\n",
    "    &=  \\mathcal{F} \\left\\{T \\mathrm{\\Lambda} \\left(\\frac{t}{T} \\right) \\right \\} \\\\\n",
    "    \\text{(Tabelle und Ähn.-Theorem)} &= T\\cdot T \\mathrm{si}^2\\left( \\frac{\\omega T}{2} \\right)\n",
    "\\end{align}    "
   ]
  },
  {
   "cell_type": "markdown",
   "metadata": {},
   "source": [
    "## 2.5\n",
    "Berechnen sie die Fouriertransformierte $Y_2(j\\omega)$ des Ausgangssignals $y_2(t)$."
   ]
  },
  {
   "cell_type": "markdown",
   "metadata": {},
   "source": [
    "Aus 2.3):\n",
    "\\begin{align}\n",
    "    Y_2(j\\omega) &= \\tilde{Y}_2(j\\omega) \\cdot \\mathrm{e}^{-j \\omega \\frac{3T}{4}} \\\\\n",
    "    &= \\left(\\frac{T}{2}\\right)^2 \\mathrm{si}^2 \\left( \\frac{\\omega T}{4} \\right) \\cdot \\left( \\mathrm{e}^{-j \\omega \\frac{T}{4}} + \\mathrm{e}^{j \\omega \\frac{T}{4}} \\right) \\cdot \\mathrm{e}^{-j \\omega \\frac{3T}{4}} \\\\\n",
    "&= \\left(\\frac{T}{2}\\right)^2 \\mathrm{si}^2 \\left( \\frac{\\omega T}{4} \\right) \\cdot \\left( \\mathrm{e}^{-j \\omega T} + \\mathrm{e}^{-j \\omega \\frac{T}{2}} \\right)\n",
    "\\end{align}\n",
    "oder:\n",
    "\\begin{align}\n",
    "    Y_2(j\\omega) &= \\mathcal{F}^{-1}\\left\\{ y_2(t) \\right\\}  \\\\\n",
    "    &= \\mathcal{F}^{-1} \\left\\{ \\frac{T}{2} \\left( \\mathrm{\\Lambda}\\left( \\frac{t-T}{T/2} \\right) + \\mathrm{\\Lambda}\\left( \\frac{t-T/2}{T/2} \\right) \\right) \\right\\} \\\\\n",
    "    &= \\left(\\frac{T}{2}\\right)^2 \\mathrm{si}^2 \\left( \\frac{\\omega T}{4} \\right) \\cdot \\left( \\mathrm{e}^{-j \\omega T} + \\mathrm{e}^{-j \\omega \\frac{T}{2}} \\right)\n",
    "\\end{align}"
   ]
  },
  {
   "cell_type": "markdown",
   "metadata": {},
   "source": [
    "## 2.6\n",
    "Berechnen sie die Fouriertransformierte des Signals $x_3(t) = \\mathrm{si}^2 \\left(t \\right)$. "
   ]
  },
  {
   "cell_type": "markdown",
   "metadata": {},
   "source": [
    "#### Dualitätstheorem:\n",
    "\\begin{align}\n",
    "    \\mathcal{F} \\left\\{ x(t) \\right\\} = X(j\\omega) \\Rightarrow \\mathcal{F} \\left\\{ \\frac{1}{2\\pi} X(t) \\right\\} = x(-j\\omega)\n",
    "\\end{align}\n",
    "#### Damit gilt:\n",
    "\\begin{align}\n",
    "    \\mathcal{F} \\left\\{ \\mathrm{\\Lambda}(t) \\right\\} &= \\mathrm{si}^2 \\left( \\frac{\\omega}{2} \\right) \\\\\n",
    "    \\Rightarrow \\mathcal{F} \\left\\{ \\frac{1}{2 \\pi} \\mathrm{si}^2 \\left( \\frac{t}{2} \\right) \\right\\} &= \\mathrm{\\Lambda}(-\\omega) = \\mathrm{\\Lambda}(\\omega)\n",
    "\\end{align}\n",
    "#### Der Ähnlichkeitssatz liefert dann:\n",
    "\\begin{align}\n",
    "    \\mathcal{F} \\left\\{ \\mathrm{si}^2 \\left( 2 \\frac{t}{2} \\right) \\right\\} = \\frac{2\\pi}{2} \\mathrm{\\Lambda} \\left( \\frac{\\omega}{2} \\right) = \\pi \\mathrm{\\Lambda} \\left( \\frac{\\omega}{2} \\right)\n",
    "\\end{align}"
   ]
  },
  {
   "cell_type": "markdown",
   "metadata": {},
   "source": [
    "## Zusatz: Wozu dient dieses System?\n",
    "\n",
    "Um den Zweck des Systems zu erkennen, wird eine normierte Variante betrachtet:\n",
    "\\begin{align}\n",
    "    g(t) =  \\frac{1}{T} \\mathrm{rect}\\left(\\frac{t}{T}\\right)\n",
    "\\end{align}  \n",
    "Damit lässt sich die Faltung zur Berechnung des Ausgangssignals folgendermaßen ausschreiben:  \n",
    "  \n",
    "\\begin{align}\n",
    "    y(t) = x(t) \\ast g(t) &= \\frac{1}{T}\\int_{-\\infty}^{\\infty} x(\\tau) \\, \\mathrm{rect}\\left(\\frac{t-\\tau}{T}\\right) \\mathrm{d}\\tau \\\\\n",
    "    &= \\frac{1}{T}\\int_{-\\infty}^{\\infty} x(\\tau) \\, \\mathrm{rect}\\left(-\\frac{\\tau-t}{T}\\right) \\mathrm{d}\\tau \\\\\n",
    "    &= \\frac{1}{T}\\int_{t-\\frac{T}{2}}^{t+\\frac{T}{2}} x(\\tau) \\ \\mathrm{d}\\tau\n",
    "\\end{align}\n",
    "Das System berechnet also den arithmetischen Mittelwert des Eingangssignals über die Dauer $T$.\n",
    "Das nicht normierte System berechnet dementsprechend das Integral über die Dauer $T$."
   ]
  }
 ],
 "metadata": {
  "kernelspec": {
   "display_name": "Python 3",
   "language": "python",
   "name": "python3"
  },
  "language_info": {
   "codemirror_mode": {
    "name": "ipython",
    "version": 3
   },
   "file_extension": ".py",
   "mimetype": "text/x-python",
   "name": "python",
   "nbconvert_exporter": "python",
   "pygments_lexer": "ipython3",
   "version": "3.4.3"
  }
 },
 "nbformat": 4,
 "nbformat_minor": 0
}
