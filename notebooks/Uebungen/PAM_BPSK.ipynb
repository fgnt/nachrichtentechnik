{
 "cells": [
  {
   "cell_type": "markdown",
   "metadata": {},
   "source": [
    "# PAM-Basisbandübertragung für BPSK"
   ]
  },
  {
   "cell_type": "markdown",
   "metadata": {},
   "source": [
    "Dieses Notebook dient dazu, das Verständnis für PAM-Übertragung im Allgmeinen zu erhöhen."
   ]
  },
  {
   "cell_type": "code",
   "execution_count": null,
   "metadata": {
    "collapsed": false
   },
   "outputs": [],
   "source": [
    "import numpy as np\n",
    "import scipy.signal as sig\n",
    "import matplotlib.pyplot as plt\n",
    "# import commpy.filters as filters\n",
    "\n",
    "pi = np.math.pi\n",
    "%matplotlib inline\n",
    "plt.rcParams['font.size'] = 20\n",
    "plt.rcParams['figure.figsize'] = (20, 10)\n",
    "plt.rcParams['lines.linewidth'] = 1.5"
   ]
  },
  {
   "cell_type": "code",
   "execution_count": null,
   "metadata": {
    "collapsed": false
   },
   "outputs": [],
   "source": [
    "# globale Definitionen\n",
    "add_noise = True\n",
    "SNR = -10 # in dB: SNR auf dem Kanal (input SNR)\n",
    "\n",
    "N = 10000 # Anzahl der Symbole\n",
    "Ts = 4 # Symbolabstand\n",
    "samples_per_second = 200 # zeitl. Aufloesung\n",
    "samples_per_symbol = samples_per_second*Ts\n",
    "delta_t = 1/samples_per_second # wichtig fuer Faltungen\n",
    "\n",
    "t = np.arange(-10*Ts, 10*Ts, delta_t)"
   ]
  },
  {
   "cell_type": "markdown",
   "metadata": {},
   "source": [
    "## Definition des Sende- und des Empfangsfilters"
   ]
  },
  {
   "cell_type": "markdown",
   "metadata": {},
   "source": [
    "Durch die Einführung eines abweichenden Abtastzeitpunktes $t_0 \\neq 0$ lässt sich eine Verzögerung einbauen, die so gewählt werden kann, dass Sende- und Empfangsfilter kausale Systeme sind."
   ]
  },
  {
   "cell_type": "code",
   "execution_count": null,
   "metadata": {
    "collapsed": false
   },
   "outputs": [],
   "source": [
    "# Sende- und Empfangsfilter (Matched Filter)\n",
    "\n",
    "# Beispielsweise Loesung von Aufgabe 14.6 \n",
    "# (darum BPSK: Binary Phase Shift Keying!): \n",
    "#send_filter = np.sin(pi*t/Ts)*(np.absolute(t) < Ts/2)\n",
    "\n",
    "# NRZ-Puls: (Rechteck-Puls mit Symboldauer als Breite)\n",
    "send_filter = (np.absolute(t) < Ts/2)\n",
    "\n",
    "Eg = np.sum(np.absolute(send_filter)**2)*delta_t\n",
    "# Matched-Filter:\n",
    "receive_filter = np.flipud(send_filter)/np.sqrt(Eg)"
   ]
  },
  {
   "cell_type": "markdown",
   "metadata": {},
   "source": [
    "### Plot der Form des Gesamtpulses p(t)\n",
    "Mit diesem Plot kann im Zeitbereich beurteilt werden, ob das Nyquistkriterium erfüllt ist.\n",
    "Dazu muss gelten:\n",
    "\\begin{align}\n",
    "    p(k T_\\mathrm{s}) =  g(t) \\ast b(t) \\ast f(t) \\left.\\vphantom{\\int}\\right|_{t=kT_\\mathrm{s}} \\overset{!}{=} C \\mathrm{\\gamma}(k-K)\n",
    "\\end{align}\n",
    "Erlaubt sind also Skalierungen und Verzögerungen, **jedoch darf jedes Symbol nur einen einzigen Abtastwert im Empfänger beeinflussen**. Zu beachten ist außerdem, dass **immer der Gesamtpuls beurteilt werden muss**!"
   ]
  },
  {
   "cell_type": "code",
   "execution_count": null,
   "metadata": {
    "collapsed": false
   },
   "outputs": [],
   "source": [
    "# im Zeitbereich und fuer Kanal mit Dirac-Impulsantwort\n",
    "complete_pulse = np.convolve(send_filter, receive_filter, 'same')*delta_t\n",
    "plt.plot(t/Ts, complete_pulse)\n",
    "plt.plot(t[::samples_per_symbol],\n",
    "         complete_pulse[::samples_per_symbol], 'ro', markersize=15)\n",
    "plt.xlabel(r'$t/T_\\mathrm{s}$')\n",
    "plt.ylabel(r'$p(t)$')\n",
    "plt.xlim((-2, 2))\n",
    "plt.grid()"
   ]
  },
  {
   "cell_type": "markdown",
   "metadata": {},
   "source": [
    "Hinweis: Die diskrete Faltung ist eine Summe. Um passende Werte für die kontinuierliche Faltung zu erhalten, muss mit dem Abstand der Zeitpunkte skaliert werden:\n",
    "\\begin{align}\n",
    "    z(t) = \\int_{-\\infty}^{\\infty} x(\\tau) y(t - \\tau) \\mathrm{d}\\tau \\approx  \\sum_{m=-M}^{M} x(m \\Delta t) y( (k- m) \\Delta t) \\cdot \\Delta t = \\tilde{z}(k \\Delta t)\n",
    "\\end{align}"
   ]
  },
  {
   "cell_type": "markdown",
   "metadata": {},
   "source": [
    "## Sender"
   ]
  },
  {
   "cell_type": "markdown",
   "metadata": {},
   "source": [
    "### Symbolfolge und zugehörige Impulsfolge\n",
    "Die Symbolfolge wird durch Erzeugung gleichverteilter Zufallszahlen generiert. Die zugehörige Impulsfolge ist die Einbettung des diskreten Signals $A(m)$ im Zeitkontinuierlichen:\n",
    "\\begin{align}\n",
    "    A_\\mathrm{cont}(t) = \\sum_{m=-\\infty}^{\\infty} A(m) \\mathrm{\\delta}(t - m T_\\mathrm{s})\n",
    "\\end{align}\n",
    "Dazu muss der Abstand zwischen den Symbolen an die Dauer der Symbole angepasst werden.\n",
    "Zudem muss jeder (durch die endliche zeitliche Auflösung immer noch diskrete) Impuls skaliert werden, um die gleiche Wirkung wie ein kontinuierlicher Impuls zu haben."
   ]
  },
  {
   "cell_type": "code",
   "execution_count": null,
   "metadata": {
    "collapsed": false
   },
   "outputs": [],
   "source": [
    "bit_sequence = np.random.rand(N) > 0.5\n",
    "symbol_sequence = 2*bit_sequence - 1\n",
    "impulse_sequence = np.zeros(samples_per_symbol*symbol_sequence.shape[0])\n",
    "impulse_sequence[::samples_per_symbol] = \\\n",
    "    symbol_sequence/delta_t\n",
    "send_signal = np.convolve(impulse_sequence, send_filter, 'same')*delta_t"
   ]
  },
  {
   "cell_type": "markdown",
   "metadata": {},
   "source": [
    "### Plot des Sendesignals"
   ]
  },
  {
   "cell_type": "markdown",
   "metadata": {},
   "source": [
    "\\begin{align}\n",
    "    s(t) = A_\\mathrm{cont}(t) \\ast g(t) = \\sum_{m=-\\infty}^{\\infty} A(m) g(t - m T_\\mathrm{s})\n",
    "\\end{align}"
   ]
  },
  {
   "cell_type": "code",
   "execution_count": null,
   "metadata": {
    "collapsed": false
   },
   "outputs": [],
   "source": [
    "samples_plot_duration = 10*samples_per_symbol\n",
    "t_plot = delta_t*np.arange(0, samples_plot_duration)\n",
    "t_symb = t_plot[::samples_per_symbol]\n",
    "plt.plot(t_plot/Ts, send_signal[:t_plot.shape[0]])\n",
    "plt.plot(t_symb/Ts, send_signal[:t_plot.shape[0]:samples_per_symbol],\n",
    "         'ro', markersize=15)\n",
    "send_lims = (1.05*np.amin(send_signal), 1.05*np.amax(send_signal))\n",
    "plt.ylim(send_lims)\n",
    "plt.xlabel(r'$t/T_\\mathrm{s}$')\n",
    "plt.ylabel(r'$s(t)$')\n",
    "plt.grid()"
   ]
  },
  {
   "cell_type": "markdown",
   "metadata": {},
   "source": [
    "## Kanal"
   ]
  },
  {
   "cell_type": "markdown",
   "metadata": {},
   "source": [
    "\\begin{align}\n",
    "    r(t) = s(t) \\ast b(t) + n(t) = \\sum_{m=-\\infty}^{\\infty} A(m) h(t - m T_\\mathrm{s}) + n(t)\n",
    "\\end{align}\n",
    "\n",
    "#### Hinweis:\n",
    "In der Theorie wird mit einem kontinuierlichen weißen Rauschen gerechnet, das deshalb auch unendliche Leistung besitzt. Das ist in der Simulation wegen den endlich großen Abständen in der zeitlichen Darstellung nicht möglich, denn die maximale Bandbreite ist durch die zeitliche Auflösung vorgegeben.  Diskretes weißes Rauschen hat endliche Leistung. Deshalb kann trotzdem ein SNR angegeben werden, das auch Einfluss auf die simulierte Übertragung hat."
   ]
  },
  {
   "cell_type": "code",
   "execution_count": null,
   "metadata": {
    "collapsed": false
   },
   "outputs": [],
   "source": [
    "# hier nur impulsfoermige Kanalimpulsantwort!\n",
    "receive_signal = send_signal.copy()\n",
    "if add_noise:\n",
    "    Pn = np.var(send_signal)*10**(-SNR/10)\n",
    "    noise = np.sqrt(Pn)*np.random.standard_normal(send_signal.shape)\n",
    "    receive_signal += noise"
   ]
  },
  {
   "cell_type": "markdown",
   "metadata": {},
   "source": [
    "### Plot des Empfangssignals vor dem Empfangsfilter"
   ]
  },
  {
   "cell_type": "code",
   "execution_count": null,
   "metadata": {
    "collapsed": false
   },
   "outputs": [],
   "source": [
    "plt.plot(t_plot/Ts, receive_signal[:t_plot.shape[0]])\n",
    "plt.plot(t_symb/Ts, receive_signal[:t_plot.shape[0]:samples_per_symbol],\n",
    "         'ro', markersize=15)\n",
    "rec_lims = (1.05*np.amin(receive_signal), 1.05*np.amax(receive_signal))\n",
    "plt.ylim(rec_lims)\n",
    "plt.xlabel(r'$t/T_\\mathrm{s}$')\n",
    "plt.ylabel(r'$r(t)$')\n",
    "plt.grid()"
   ]
  },
  {
   "cell_type": "markdown",
   "metadata": {},
   "source": [
    "## Empfänger"
   ]
  },
  {
   "cell_type": "markdown",
   "metadata": {},
   "source": [
    "### Matched-Filterung\n",
    "\\begin{align}\n",
    "    q(t) = r(t) \\ast f(t) = \\sum_{m=-\\infty}^{\\infty} A(m) p(t - m T_\\mathrm{s}) + \\tilde{n}(t)\n",
    "\\end{align}\n",
    "Nach dem Matched-Filter ist die Pulsform jedes zu einem Symbol gehörenden Einzelpulses gleich der Gesamtpulsform."
   ]
  },
  {
   "cell_type": "code",
   "execution_count": null,
   "metadata": {
    "collapsed": true
   },
   "outputs": [],
   "source": [
    "decision_signal = np.convolve(receive_signal, receive_filter, 'same')*delta_t"
   ]
  },
  {
   "cell_type": "markdown",
   "metadata": {},
   "source": [
    "### Plot des Entscheidungssignals und der Abtastwerte"
   ]
  },
  {
   "cell_type": "code",
   "execution_count": null,
   "metadata": {
    "collapsed": false
   },
   "outputs": [],
   "source": [
    "plt.plot(t_plot/Ts, decision_signal[:t_plot.shape[0]])\n",
    "plt.plot(t_symb/Ts, decision_signal[:t_plot.shape[0]:samples_per_symbol],\n",
    "         'ro', markersize=15)\n",
    "dec_lims = (1.05*np.amin(decision_signal), 1.05*np.amax(decision_signal))\n",
    "plt.ylim(dec_lims)\n",
    "plt.xlabel(r'$t/T_\\mathrm{s}$')\n",
    "plt.ylabel(r'$q(t)$')\n",
    "plt.grid()"
   ]
  },
  {
   "cell_type": "markdown",
   "metadata": {},
   "source": [
    "### Plot des Augendiagramms"
   ]
  },
  {
   "cell_type": "code",
   "execution_count": null,
   "metadata": {
    "collapsed": false
   },
   "outputs": [],
   "source": [
    "start_symbol_idx = 10\n",
    "end_symbol_idx = N-10\n",
    "t_eye = np.linspace(-Ts, Ts, 2*samples_per_symbol)\n",
    "for n in range(start_symbol_idx, end_symbol_idx):\n",
    "    decision_signal_current = decision_signal[\n",
    "        n*samples_per_symbol:(n+2)*samples_per_symbol]\n",
    "    plt.plot(t_eye/Ts, decision_signal_current, 'b', alpha=0.1)\n",
    "plt.xlim((-1, 1))\n",
    "q_max = np.amax(decision_signal)\n",
    "plt.ylim((-1.01*q_max, 1.01*q_max))\n",
    "plt.xlabel(r'$t/T_\\mathrm{s}$')\n",
    "plt.grid()"
   ]
  },
  {
   "cell_type": "markdown",
   "metadata": {},
   "source": [
    "### SNR vor dem Abtaster zum Abtastzeitpunkt"
   ]
  },
  {
   "cell_type": "code",
   "execution_count": null,
   "metadata": {
    "collapsed": false
   },
   "outputs": [],
   "source": [
    "if add_noise:\n",
    "    # Nutzsignalanteil des Empfangssignals\n",
    "    Ps_q = np.var(np.convolve(send_signal, receive_filter, 'same')*delta_t)\n",
    "    # Stoersignalanteil\n",
    "    Pn_q = np.var(np.convolve(noise, receive_filter, 'same')*delta_t)\n",
    "    # SNR\n",
    "    SNR_q = 10*np.log10(Ps_q/Pn_q)\n",
    "    print(\"SNR = {:3.1f} dB\".format(SNR_q))"
   ]
  },
  {
   "cell_type": "markdown",
   "metadata": {},
   "source": [
    "### Bitfehlerrate"
   ]
  },
  {
   "cell_type": "code",
   "execution_count": null,
   "metadata": {
    "collapsed": false
   },
   "outputs": [],
   "source": [
    "# Decoder\n",
    "received_bit_sequence = decision_signal[::samples_per_symbol] > 0.5\n",
    "assert(received_bit_sequence.shape[0] == N)\n",
    "\n",
    "# geschaetzte Bitfehlerrate\n",
    "BER = (received_bit_sequence^bit_sequence).sum()/N\n",
    "print(\"BER = {:1.5f}\".format(BER))"
   ]
  },
  {
   "cell_type": "markdown",
   "metadata": {},
   "source": [
    "## Zusatz: Matched-Filterung etwas anders erklärt"
   ]
  },
  {
   "cell_type": "markdown",
   "metadata": {},
   "source": [
    "Für den optimalen Empfänger muss laut Vorlesung gelten:\n",
    "\\begin{align}\n",
    "    f(t) \\overset{!}{=} K \\cdot h(t_0 - t) \\text{  mit   } h(t) = g(t) \\ast b(t)\n",
    "\\end{align}\n",
    "Anschaulich kann man sich dies so vorstellen:  \n",
    "Das Sendesignal besteht aus einer Additiven Überlagerung von skalierten, zeitverschobenen Kopien des Sendepulses. Der Kanal verzerrt das Sendesignal mit einer (hier als bekannt angenommenen) Impulsantwort. \n",
    "**Damit ist die Signalform h(t) der Pulse im erwarteten Empfangssignal bekannt**.\n",
    "Unbekannt und störend ist aber das Rauschen, das bei der Übertragung hinzugefügt wird.\n",
    "Um eine **bekannte Signalform h(t) in einem gegebenen Signal** zu finden, kann man die **Kreuzkorrelation** verwenden, die sich durch eine Faltung (und damit durch eine Filterung) darstellen lässt:\n",
    "\\begin{align}\n",
    "    \\varphi^\\mathrm{E}_{hr}(t) &= h(-t) \\ast r(t) \n",
    "    = \\int_{-\\infty}^{\\infty} h(-\\tau) r(t - \\tau) \\mathrm{d}\\tau \n",
    "    = \\int_{-\\infty}^{\\infty} r(\\tau) h(-(t - \\tau)) \\mathrm{d}\\tau\n",
    "\\end{align}"
   ]
  },
  {
   "cell_type": "markdown",
   "metadata": {},
   "source": [
    "Wenn $s(t) = A(0) \\cdot (g(t)\\ast b(t)) = A(0) h(t)$ gesetzt wird, lässt sich $f(t) = h(-t)$ identifizieren. **Die zeitliche Inversion ist also notwenig, damit durch die Faltung eine Korrelation berechnet wird**.  \n",
    "Der Optimale Abtastzeitpunkt $t_0$ lässt sich durch Umformen bestimmen:\n",
    "\\begin{align}\n",
    "    \\varphi^\\mathrm{E}_{hr}(t_0) &= \\int_{-\\infty}^{\\infty} s(\\tau) h(-(t - \\tau)) \\mathrm{d}\\tau \\\\\n",
    "    &= \\int_{-\\infty}^{\\infty} A(0) h(\\tau) h(-(t - \\tau)) \\mathrm{d}\\tau  \\\\\n",
    "    &=  A(0) \\int_{-\\infty}^{\\infty} h(\\tau) h(-(t - \\tau)) \\mathrm{d}\\tau  \\\\\n",
    "    &=  A(0) \\int_{-\\infty}^{\\infty} h(\\tau) h(-(t_0) + \\tau)) \\mathrm{d}\\tau \\\\\n",
    "    &= A(m) \\varphi^\\mathrm{E}_{hh}(-(t_0))\n",
    "\\end{align}  \n",
    "Das Vorzeichen vor $t_0$ spielt wegen der geraden AKF keine  Rolle. Das Maximum der AKF ist bei $t_0 = 0$. Dies ist deshalb auch der ideale Abtastzeitpunkt.  \n",
    "Durch **Einführung einer Verzögerung und gleichzeitiger Verschiebung des Abtastzeitpunktes** um diese Verzögerung kann aber in der Praxis sichergestellt werden, dass **sowohl Sende- als auch Empfangsfilter kausale Systeme** sind. Auch eine Skalierung ist erlaubt, da Nutzsignalanteil und Rauschen in gleicher Weise skaliert werden. So gelangt man zur allgemeineren Definition des Matched-Filters oben.  \n",
    "Außerdem ist folgende Betrachtungsweise möglich:\n",
    "\\begin{align}\n",
    "    \\varphi^\\mathrm{E}_{hr}(0) = \\int_{-\\infty}^{\\infty} r(\\tau) h(\\tau) \\mathrm{d}\\tau\n",
    "\\end{align}  \n",
    "Das heißt, **das Matched-Filter berechnet zum Abtastzeitpunkt das Skalarprodukt zwischen Empfangssignal und erwarteter Signalform**.  \n",
    "Das bisher vernachlässigte Rauschen hat zu jedem Zeitpunkt wenig Ähnlichkeit mit der erwarteten Pulsform und wird deshalb unterdrückt."
   ]
  }
 ],
 "metadata": {
  "kernelspec": {
   "display_name": "Python 3",
   "language": "python",
   "name": "python3"
  },
  "language_info": {
   "codemirror_mode": {
    "name": "ipython",
    "version": 3
   },
   "file_extension": ".py",
   "mimetype": "text/x-python",
   "name": "python",
   "nbconvert_exporter": "python",
   "pygments_lexer": "ipython3",
   "version": "3.5.2"
  }
 },
 "nbformat": 4,
 "nbformat_minor": 0
}
