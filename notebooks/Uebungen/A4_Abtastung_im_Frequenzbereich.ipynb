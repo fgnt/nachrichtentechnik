{
 "cells": [
  {
   "cell_type": "code",
   "execution_count": null,
   "metadata": {
    "collapsed": true
   },
   "outputs": [],
   "source": [
    "import warnings\n",
    "warnings.filterwarnings('ignore')"
   ]
  },
  {
   "cell_type": "code",
   "execution_count": null,
   "metadata": {
    "collapsed": false
   },
   "outputs": [],
   "source": [
    "import numpy as np\n",
    "import matplotlib.pyplot as plt\n",
    "import ipywidgets as widget\n",
    "from IPython.display import display\n",
    "import scipy.signal as sig\n",
    "%matplotlib inline\n",
    "\n",
    "pi = np.math.pi\n",
    "\n",
    "def setLabels(lX, lY):\n",
    "    plt.xlabel(lX)\n",
    "    plt.ylabel(lY)\n",
    "    \n",
    "plt.rcParams['font.size'] = 40\n",
    "plt.rcParams['figure.figsize'] = (40, 10)\n",
    "plt.rcParams['lines.linewidth'] = 2.0"
   ]
  },
  {
   "cell_type": "markdown",
   "metadata": {},
   "source": [
    "# Aufgabe 4: Abtastung im Frequenzbereich\n",
    "Gegeben sei das Signal\n",
    "\\begin{align}\n",
    "    x(t) = \\begin{cases}\n",
    "        \\sin(t): & t \\in \\left[-\\frac{\\pi}{2},\\frac{\\pi}{2}\\right] \\\\\n",
    "        0: & \\text{sonst.}\n",
    "        \\end{cases}\n",
    "\\end{align}\n"
   ]
  },
  {
   "cell_type": "markdown",
   "metadata": {},
   "source": [
    "#### Graph des Signals im Zeitbereich"
   ]
  },
  {
   "cell_type": "code",
   "execution_count": null,
   "metadata": {
    "collapsed": false,
    "scrolled": false
   },
   "outputs": [],
   "source": [
    "N = 3*1000\n",
    "T = 2\n",
    "T_d = 6*pi\n",
    "samples_per_second = N/T_d\n",
    "crest_factor = samples_per_second\n",
    "\n",
    "t = np.linspace(-T_d/2, T_d/2, N)\n",
    "x = np.sin(t)\n",
    "x[(t < -pi/2) | (t > pi/2)] = 0\n",
    "plt.grid()\n",
    "plt.xlim((-2, 2))\n",
    "plt.ylim((1.1*min(x), 1.1*max(x)))\n",
    "plt.axvline(linewidth=0.75, color='k')\n",
    "plt.plot(t/pi, x, 'b-')\n",
    "plt.axhline(linewidth=0.75, color='k')\n",
    "setLabels(r'$t/\\pi$', r'$x(t)$')"
   ]
  },
  {
   "cell_type": "markdown",
   "metadata": {},
   "source": [
    "## 4.1\n",
    "Handelt es sich bei $x(t)$ um ein Energie- oder ein Leistungssignal?"
   ]
  },
  {
   "cell_type": "markdown",
   "metadata": {},
   "source": [
    "#### Mit Anschauung:\n",
    "Das Signal $x(t)$ ist ein Energiesignal, da es beschränkt und von begrenzter Dauer ist.  \n",
    "\n",
    "#### Mit Rechnung:\n",
    "\\begin{align}\n",
    "    x(t) &= \\sin(t)\\cdot \\mathrm{rect}\\left(\\frac{t}{\\pi}\\right)&& \\\\\n",
    "    \\Rightarrow E_{x} &= \\int_{-\\infty}^{\\infty}\\left|x(t)\\right|^2 \\mathrm{d}t&&\\\\\n",
    "         &= \\int_{-\\pi/2}^{\\pi/2} \\sin^2(t) \\mathrm{d}t && \\left|\\  \\sin^2(x) = \\frac{1}{2} - \\frac{1}{2}\\cos(2x) \\right.\\\\\n",
    "         &= \\frac{1}{2}\\int_{-\\pi/2}^{\\pi/2} 1 - \\cos(2t)  \\mathrm{d}t && \\\\\n",
    "         &= \\left[\\frac{t}{2} - \\frac{\\sin(2t)}{4}\\right]_{-\\pi/2}^{\\pi/2} = \\frac{\\pi}{2} < \\infty!&&\n",
    "\\end{align}\n",
    "Da die Energie endlich ist, ist das Signal ein Energiesignal."
   ]
  },
  {
   "cell_type": "markdown",
   "metadata": {},
   "source": [
    "## 4.2\n",
    "Berechnen sie die Fouriertransformierte $X(j\\omega)$ des Signals $x(t)$."
   ]
  },
  {
   "cell_type": "markdown",
   "metadata": {},
   "source": [
    "\\begin{align}\n",
    "    x(t) &= \\sin(t) \\cdot \\mathrm{rect} \\left( \\frac{t}{\\pi} \\right) \\\\\n",
    "    \\Rightarrow X(j\\omega) &= \\frac{1}{2\\pi} \\mathcal{F} \\left\\{ \\sin(t) \\right\\} \\ast \\mathcal{F}\\left\\{ \\mathrm{rect}\\left( \\frac{t}{\\pi} \\right) \\right\\} \\\\\n",
    "    &= \\frac{1}{2\\pi} \\left( j\\pi\\left(\\mathrm{\\delta}(\\omega + 1) - \\mathrm{\\delta}(\\omega - 1) \\right) \\right) \\ast \\left(\\pi \\mathrm{si}\\left(\\frac{\\pi \\omega}{2} \\right) \\right) \\\\\n",
    "        &= \\frac{j\\pi}{2} \\left( \\mathrm{si}\\left(\\frac{\\pi (\\omega +1)}{2} \\right) - \\mathrm{si}\\left(\\frac{\\pi (\\omega -1)}{2} \\right) \\right)\n",
    "\\end{align}"
   ]
  },
  {
   "cell_type": "markdown",
   "metadata": {},
   "source": [
    "### Die Fouriertransformierte $X(j\\omega)$ wird nun im Frequenzbereich mit $\\omega_0$ abgetastet."
   ]
  },
  {
   "cell_type": "markdown",
   "metadata": {},
   "source": [
    "## 4.3\n",
    "Geben sie das durch die Abtastung enstehende frequenzdiskrete Spektrum $X_p(j\\omega)$ an."
   ]
  },
  {
   "cell_type": "markdown",
   "metadata": {},
   "source": [
    "Die Abtastung lässt sich als Multiplikation mit einem Dirac-Kamm im Frequenzbereich schreiben:\n",
    "\\begin{align}\n",
    "    X_p(j\\omega) &= X(j\\omega) \\cdot \\sum_{k = -\\infty}^{\\infty} \\mathrm{\\delta}\\left(\\omega - k\\omega_0\\right) \\\\\n",
    "    &= \\sum_{k = -\\infty}^{\\infty} \\frac{j\\pi}{2} \\left( \\mathrm{si}\\left(\\frac{\\pi (\\omega +1)}{2} \\right) - \\mathrm{si}\\left(\\frac{\\pi (\\omega -1)}{2} \\right)  \\right) \\mathrm{\\delta}\\left(\\omega - k\\omega_0\\right) \\\\\n",
    "     &= \\sum_{k = -\\infty}^{\\infty} \\frac{j\\pi}{2} \\left( \\mathrm{si}\\left(\\frac{\\pi (k\\omega_0 +1)}{2} \\right) - \\mathrm{si}\\left(\\frac{\\pi (k\\omega_0 -1)}{2} \\right)  \\right) \\mathrm{\\delta}\\left(\\omega - k\\omega_0\\right)\n",
    "\\end{align}"
   ]
  },
  {
   "cell_type": "markdown",
   "metadata": {},
   "source": [
    "#### Graph der Spektren $X(j\\omega)$ und $X_p(j\\omega)$:"
   ]
  },
  {
   "cell_type": "code",
   "execution_count": null,
   "metadata": {
    "collapsed": false
   },
   "outputs": [],
   "source": [
    "N_w = 2*1200\n",
    "w = np.linspace(-12, 12, N_w)\n",
    "X = 1j*pi*(np.sinc((w + 1)/2) - np.sinc((w - 1)/2))\n",
    "    \n",
    "def plotSpectra(omega_zero):\n",
    "    omega_max_idx = int(12/omega_zero)*omega_zero\n",
    "    omega_p = np.arange(-omega_max_idx, omega_max_idx, omega_zero)\n",
    "    X_p = 1j*pi*(np.sinc((omega_p + 1)/2) - np.sinc((omega_p - 1)/2))\n",
    "    plt.grid()\n",
    "    plt.xlim((-3*pi, 3*pi))\n",
    "    plt.ylim(( 1.1*min(np.imag(X)), 1.1*max(np.imag(X)) ))\n",
    "    plt.axvline(linewidth=0.75, color='k')\n",
    "    plt.plot(w, np.imag(X), 'b-')\n",
    "    mline, sline, baseline = plt.stem(omega_p, np.imag(X_p), color='r')\n",
    "    plt.setp(mline, 'markerfacecolor', 'r')\n",
    "    plt.setp(sline, color='r')\n",
    "    plt.axhline(linewidth=0.75, color='k')\n",
    "    setLabels(r'$\\omega$', r'$X(j\\omega),X_p(j\\omega)$')\n",
    "\n",
    "wdg = widget.interactive(plotSpectra, omega_zero = \n",
    "    widget.FloatSlider(min=0.5, max=4, step=0.25, value=1))\n",
    "display(wdg)"
   ]
  },
  {
   "cell_type": "markdown",
   "metadata": {},
   "source": [
    "## 4.4\n",
    "Bestimmen sie die inverse Fouriertransformierte $x_p(t)$ des Spektrums $X_p(j\\omega)$."
   ]
  },
  {
   "cell_type": "markdown",
   "metadata": {},
   "source": [
    "Mit Tabelle und $\\omega_0 = \\frac{2\\pi}{T_0}$ folgt:\n",
    "\\begin{align}\n",
    "    \\mathcal{F} \\left\\{ \\sum_{k=-\\infty}^{\\infty} \\mathrm{\\delta}\\left(t - kT_0\\right) \\right\\} = \\underbrace{\\frac{2\\pi}{T_0}}_{=\\omega_0} \\sum_{k=-\\infty}^{\\infty} \\mathrm{\\delta}\\left(\\omega - k\\frac{2\\pi}{T_0} \\right) \\\\\n",
    "    \\Rightarrow \\mathcal{F}^{-1} \\left\\{ \\sum_{k=-\\infty}^{\\infty} \\mathrm{\\delta}\\left(\\omega - k\\omega_0 \\right) \\right\\} = \\frac{1}{\\omega_0} \\sum_{k=-\\infty}^{\\infty} \\mathrm{\\delta}\\left(t - k\\frac{2\\pi}{\\omega_0}\\right)\n",
    "\\end{align}\n",
    "Die Multiplikation entspricht einer Faltung im Zeitbereich:\n",
    "\\begin{align}\n",
    "x_p(t) &= \\mathcal{F}^{-1}\\left\\{X(j\\omega) \\sum_{k=-\\infty}^{\\infty} \\mathrm{\\delta}\\left(\\omega - k\\omega_0 \\right) \\right\\} \\\\\n",
    "&= x(t) \\ast \\frac{1}{\\omega_0} \\sum_{k=-\\infty}^{\\infty} \\mathrm{\\delta}\\left(t - k\\frac{2\\pi}{\\omega_0}\\right) \\\\\n",
    " &= \\frac{1}{\\omega_0} \\sum_{k=-\\infty}^{\\infty} x\\left(t - k\\frac{2\\pi}{\\omega_0}\\right) \\\\\n",
    " &= \\frac{1}{\\omega_0} \\sum_{k=-\\infty}^{\\infty} sin\\left(t - k\\frac{2\\pi}{\\omega_0}\\right) \\cdot \\mathrm{rect}\\left(\\frac{t - k\\frac{2\\pi}{\\omega_0}}{\\pi}\\right)\n",
    "\\end{align}\n",
    "Durch die Abtastung im Frequenzbereich wird das Zeitsignal also periodisch wiederholt mit der Periodendauer $T_0 = \\frac{2\\pi}{\\omega_0}$."
   ]
  },
  {
   "cell_type": "markdown",
   "metadata": {},
   "source": [
    "## 4.5\n",
    "Skizzieren Sie $x_p(t)$ im Bereich $t \\in \\left[-2\\pi, 2\\pi\\right]$ für $\\omega_0 = 1$."
   ]
  },
  {
   "cell_type": "code",
   "execution_count": null,
   "metadata": {
    "collapsed": false
   },
   "outputs": [],
   "source": [
    "def plot_periodic(omega_zero):\n",
    "    x_p = np.copy(x)\n",
    "    # symmetrically add periodic repetitions\n",
    "    for shift in np.arange(2*pi/omega_zero,\n",
    "            2*pi + 2*pi/omega_zero, 2*pi/omega_zero):\n",
    "        x_p += np.roll(x, int(shift*crest_factor)) \n",
    "        x_p += np.roll(x, -int(shift*crest_factor))\n",
    "        \n",
    "    plt.grid()\n",
    "    plt.xlim((-2, 2))\n",
    "    plt.ylim((1.1*min(x), 1.1*max(x)))\n",
    "    plt.axvline(linewidth = 0.75, color='k')\n",
    "    plt.plot(t/pi, x_p/omega_zero, 'b-')\n",
    "    plt.plot(t/pi, x/omega_zero, 'r-')\n",
    "    plt.axhline(linewidth = 0.75, color='k')\n",
    "    setLabels(r'$t/\\rm{s}$', r'$x_p(t)$')\n",
    "\n",
    "wdg2 = widget.interactive(plot_periodic, omega_zero=\n",
    "    widget.FloatSlider(min=0.5, max=4, step=0.25, value=1))\n",
    "display(wdg2)"
   ]
  },
  {
   "cell_type": "markdown",
   "metadata": {},
   "source": [
    "## 4.6\n",
    "Welche Bedingung muss erfüllt sein, damit $x(t)$ *fehlerfrei* aus $x_p(t)$ zurückgewonnen werden kann?"
   ]
  },
  {
   "cell_type": "markdown",
   "metadata": {},
   "source": [
    "Zur fehlerfreien Rekonstruktion dürfen sich die periodischen Wiederholungen von $x(t)$ in $x_p(t)$ nicht überlappen.\n",
    "Da $x(t)$ die zeitliche Dauer $T = \\pi$ besitzt, ist dies gewährleistet, wenn\n",
    "\\begin{align}\n",
    "    T_0 = \\frac{2\\pi}{\\omega_0} &\\geq \\pi = T \\\\\n",
    "    \\Rightarrow \\omega_0 &\\leq 2\n",
    "\\end{align}\n",
    "Dies lässt sich auch durch den interaktiven Plot in 4.5) erkennen."
   ]
  },
  {
   "cell_type": "markdown",
   "metadata": {},
   "source": [
    "## 4.7\n",
    "Zeigen sie, wie aus $x_p(t)$ fehlerfrei das ursprüngliche Signal zurückgewonnen werden kann."
   ]
  },
  {
   "cell_type": "markdown",
   "metadata": {},
   "source": [
    "Sofern die Bedingung aus 4.6) eingehalten wird, kann die Rekonstruktion durch Multiplikation mit einer Rechteck-Fensterfunktion im Zeitbereich geschehen. Dazu muss auch die Skalierung mit $\\frac{1}{\\omega_0}$ rückgängig gemacht werden:\n",
    "\\begin{align}\n",
    "    x(t) &= x_p(t) \\cdot \\omega_0 \\mathrm{rect}\\left( \\frac{\\omega_0 t}{2 \\pi} \\right) \\\\\n",
    "       &=  \\mathrm{rect}\\left( \\frac{\\omega_0 t}{2 \\pi} \\right) \\left( \\sum_{k=-\\infty}^{\\infty} x \\left(t - k\\frac{2\\pi}{\\omega_0}\\right) \\right)\n",
    "\\end{align}"
   ]
  },
  {
   "cell_type": "markdown",
   "metadata": {},
   "source": [
    "## Zusatz: Hintergründe\n",
    "Die hier beispielhaft vorgeführten Auswirkungen der Abtastung im Frequenzbereich treten auch in der Praxis auf: Bei der Umsetzung von Signalverarbeitungsverfahren auf Digitalrechnern kann die Frequenzachse nicht als kontinuierlich behandelt werden, sondern es muss auch hier &ndash; analog zur Abtastung im Zeitbereich &ndash; eine Diskretisierung erfolgen.  \n",
    "Bei der Diskretisierung der Zeitachse wird das Spektrum periodisch wiederholt. Wegen des Dualitätstheorems wird bei der Abtastung im Frequenzbereich das Signal im Zeitbereich periodisch wiederholt. Dieser Effekt ist bereits durch die **Fourierreihen** vertraut: Mit diskreten Frequenzen können nur periodische Signale dargestellt werden.  \n",
    "Ein typisches Beispiel für ein zeit- und frequenzdiskretes Signalverarbeitungsverfahren ist die **DFT**, welche auch die Umsetzung schneller Filterverfahren erlaubt, indem statt einer rechenaufwändigen Faltung im Zeitbereich eine frequenzweise Multiplikation im Frequenzbereich durchgeführt wird. Bei diesen Verfahren muss die künstlich durch die **DFT** eingebaute Periodizität des Zeitsignals unbedingt berücksichtigt werden, da das Ergebnis der Filterung sonst fehlerhaft ist."
   ]
  }
 ],
 "metadata": {
  "kernelspec": {
   "display_name": "Python 3",
   "language": "python",
   "name": "python3"
  },
  "language_info": {
   "codemirror_mode": {
    "name": "ipython",
    "version": 3
   },
   "file_extension": ".py",
   "mimetype": "text/x-python",
   "name": "python",
   "nbconvert_exporter": "python",
   "pygments_lexer": "ipython3",
   "version": "3.4.3"
  }
 },
 "nbformat": 4,
 "nbformat_minor": 0
}
