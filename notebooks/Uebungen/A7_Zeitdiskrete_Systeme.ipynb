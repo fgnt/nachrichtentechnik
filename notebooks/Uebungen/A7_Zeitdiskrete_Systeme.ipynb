{
 "cells": [
  {
   "cell_type": "code",
   "execution_count": null,
   "metadata": {
    "collapsed": false
   },
   "outputs": [],
   "source": [
    "import warnings\n",
    "warnings.filterwarnings('ignore')"
   ]
  },
  {
   "cell_type": "code",
   "execution_count": null,
   "metadata": {
    "collapsed": false,
    "scrolled": true
   },
   "outputs": [],
   "source": [
    "import numpy as np\n",
    "import matplotlib.pyplot as plt\n",
    "import ipywidgets as widget\n",
    "from IPython.display import display\n",
    "%matplotlib inline\n",
    "\n",
    "pi = np.math.pi\n",
    "\n",
    "    \n",
    "plt.rcParams['font.size'] = 40\n",
    "plt.rcParams['figure.figsize'] = (40, 10)\n",
    "plt.rcParams['lines.linewidth'] = 2.0\n",
    "\n",
    "def setLabels(lX, lY):\n",
    "    plt.xlabel(lX)\n",
    "    plt.ylabel(lY)"
   ]
  },
  {
   "cell_type": "markdown",
   "metadata": {},
   "source": [
    "# Aufgabe 7: Zeitdiskrete Systeme\n",
    "\n",
    "Gegeben ist ein zeitdiskretes System mit der Impulsantwort $h(n) = \\gamma(n) + \\gamma(n-1)$. $\\gamma(n)$ bezeichne hierbei den zeitdiskreten Einheitsimpuls."
   ]
  },
  {
   "cell_type": "markdown",
   "metadata": {},
   "source": [
    "#### Graph der Impulsantwort $h(n)$"
   ]
  },
  {
   "cell_type": "code",
   "execution_count": null,
   "metadata": {
    "collapsed": false
   },
   "outputs": [],
   "source": [
    "plt.grid()\n",
    "plt.xlim((-1, 2))\n",
    "plt.ylim((-0.1, 1.5))\n",
    "plt.axvline(linewidth=0.75, color='k')\n",
    "plt.plot([0, 1], [1, 1], 'bo', markersize=25)\n",
    "plt.xticks(np.arange(-1, 3))\n",
    "plt.vlines([0, 1], 0, [1, 1], 'b')\n",
    "plt.axhline(linewidth=0.75, color='k')\n",
    "setLabels(r'$n$', r'$h(n)$')"
   ]
  },
  {
   "cell_type": "markdown",
   "metadata": {},
   "source": [
    "## 7.1\n",
    "Berechnen sie die Übertragungsfunktion des Systems."
   ]
  },
  {
   "cell_type": "markdown",
   "metadata": {},
   "source": [
    "\\begin{align}\n",
    "    H \\left(\\mathrm{e}^{j\\omega T}\\right) &= \\mathcal{F}_\\text{d} \\left\\{ h(n) \\right\\} = \\mathcal{F}_\\text{d} \\left\\{ \\gamma(n) + \\gamma(n-1) \\right\\} \\\\\n",
    "    &= \\sum_{n=-\\infty}^{\\infty} \\left( \\gamma(n) + \\gamma(n-1) \\right) \\mathrm{e}^{-j\\omega n T}  \\\\\n",
    "    &= \\sum_{n=-\\infty}^{\\infty} \\gamma(n)\\mathrm{e}^{-j\\omega n T} + \\sum_{n=-\\infty}^{\\infty} \\gamma(n-1)\\mathrm{e}^{-j\\omega n T} \\\\\n",
    "    &= 1 + \\mathrm{e}^{-j\\omega T}\n",
    "\\end{align}\n",
    "\n",
    "Auch die Übertragungsfunktion ist wieder (bis auf den Faktor $1/2$ die gleicghe wie in Aufgabe 3:  \n",
    "Die Übertragungsfunktion ist periodisch in $\\omega$. Sie hat den Wert 1 für $\\omega = 2k \\frac{\\pi}{T}$ und den Wert 0 für $\\omega = (2k+1)\\cdot \\frac{\\pi}{T}$ mit $k \\in \\mathbb{Z}$.  \n",
    "Durch die durch das Abtasttheorem vorgegebene Beschränkung auf den Frequenzbereich $\\omega \\in \\left[ -\\frac{\\pi}{T}, \\frac{\\pi}{T} \\right]$ stellt das System einen (sehr breitbandigen) Tiefpass dar."
   ]
  },
  {
   "cell_type": "markdown",
   "metadata": {},
   "source": [
    "### Einschub: Graph der Übertragungsfunktion\n",
    "Die Übertragungsfunktion lässt auch auch in der Betrags-Phasen-Darstellung bringen:\n",
    "\n",
    "\\begin{align}\n",
    "    H \\left(\\mathrm{e}^{j\\omega T}\\right) =  \\left| H \\left(\\mathrm{e}^{j\\omega T}\\right) \\right| \\mathrm{e}^{j \\mathrm{arg} \\left\\{  H \\left(\\mathrm{e}^{j\\omega T}\\right) \\right\\} }\n",
    "\\end{align}\n",
    "\n",
    "Betrag und Phase werden im folgenden besprochen."
   ]
  },
  {
   "cell_type": "markdown",
   "metadata": {},
   "source": [
    "#### Graph des Betrags der Übertragungsfunktion $\\left|H \\left(\\mathrm{e}^{j\\omega T}\\right) \\right|$"
   ]
  },
  {
   "cell_type": "markdown",
   "metadata": {},
   "source": [
    "\\begin{align}\n",
    "    \\left| H \\left(\\mathrm{e}^{j\\omega T}\\right) \\right| = \\sqrt{H \\left(\\mathrm{e}^{j\\omega T}\\right) \\cdot H^{\\ast} \\left(\\mathrm{e}^{j\\omega T}\\right)} &= \\sqrt{\\left( 1 + \\mathrm{e}^{-j\\omega T} \\right) \\cdot \\left( 1 + \\mathrm{e}^{j\\omega T} \\right)} \\\\\n",
    "    &= \\sqrt{1 + \\mathrm{e}^{j\\omega T} + \\mathrm{e}^{-j\\omega T} + 1} \\\\\n",
    "    &= \\left. \\sqrt{2\\left(1 + \\cos\\left(\\omega T\\right)\\right)} \\qquad \\right|\n",
    "        \\cos^2(x) = \\frac{1}{2} + \\frac{1}{2}\\cos(2x) \\quad \\text{mit } x=\\frac{\\omega T}{2}\\\\\n",
    "    &= \\sqrt{4 \\cos^2 \\left( \\frac{\\omega T}{2} \\right)} = 2\\cos \\left( \\frac{\\omega T}{2} \\right) \n",
    "    := A(\\omega)\n",
    "\\end{align}"
   ]
  },
  {
   "cell_type": "code",
   "execution_count": null,
   "metadata": {
    "collapsed": false,
    "scrolled": true
   },
   "outputs": [],
   "source": [
    "wT = np.linspace(-3*pi, 3*pi, 1000)\n",
    "H = (1 + np.exp(-1j*wT))\n",
    "\n",
    "plt.axvline(linewidth=0.75, color='k')\n",
    "plt.plot(wT/pi, np.abs(H))\n",
    "plt.axhline(linewidth=0.75, color='k')\n",
    "plt.ylim((-0.05, 2.05))\n",
    "plt.grid()\n",
    "setLabels(r'$\\omega T/\\pi$', r'$\\left|H \\left(\\mathrm{e}^{j\\omega T}\\right)\\right| = A(\\omega)$')"
   ]
  },
  {
   "cell_type": "markdown",
   "metadata": {},
   "source": [
    "#### Graph der Phase der Übertragungsfunktion $\\mathrm{arg} \\left\\{H \\left(\\mathrm{e}^{j\\omega T}\\right) \\right\\}$"
   ]
  },
  {
   "cell_type": "markdown",
   "metadata": {},
   "source": [
    "\\begin{align}\n",
    "    \\mathrm{arg} \\left\\{H \\left(\\mathrm{e}^{j\\omega T}\\right) \\right\\} &= \\arctan \\left( \\frac{ \\mathrm{Im} \\left\\{H \\left(\\mathrm{e}^{j\\omega T}\\right) \\right\\} }{ \\mathrm{Re} \\left\\{H \\left(\\mathrm{e}^{j\\omega T}\\right) \\right\\} } \\right) \\\\\n",
    "    &=\\left. \\arctan \\left( \\frac{ - \\sin(\\omega T) }{1 + \\cos(\\omega T) } \\right) \\qquad \\qquad\\right| \\cos^2(x) = \\frac{1}{2}\\left( 1 + \\cos(2x)\\right) \\text{,} \\quad 2\\sin(x)\\cos(x) = \\sin(2x) \\quad \\text{mit } x=\\frac{\\omega T}{2}\\\\\n",
    "    &= -\\arctan \\left( \\frac{2 \\sin\\left(\\frac{\\omega T}{2}\\right) \\cos\\left(\\frac{\\omega T}{2}\\right)}{ 2 \\cos^2\\left(\\frac{\\omega T}{2}\\right) } \\right) \\\\\n",
    "    &= -\\arctan \\left( \\frac{ \\sin \\left( \\frac{\\omega T}{2} \\right) }{ \\cos \\left( \\frac{\\omega T}{2} \\right) } \\right)\n",
    "    = -\\arctan \\left( \\tan \\left( \\frac{\\omega T}{2} \\right) \\right) = -\\frac{\\omega T}{2} := \\varphi(\\omega)\n",
    "\\end{align}\n",
    "Der Phasenverlauf ist also eine lineare Funktion der Frequenz. Dies ist von Vorteil, da alle Frequenzen durch das System dieselbe Verzögerung erfahren und ein impulsförmiges Eingangssignal nur geglättet wird, aber zeitlich nicht auseinanderläuft. Linearphasigkeit ist deshalb häufig eine sehr wichtige Eigenschaft eines guten Filterentwurfs."
   ]
  },
  {
   "cell_type": "code",
   "execution_count": null,
   "metadata": {
    "collapsed": false,
    "scrolled": true
   },
   "outputs": [],
   "source": [
    "# needed to show plot without phase jumps\n",
    "def unwrap(phase):\n",
    "    return np.unwrap(2*phase)/2+pi\n",
    "\n",
    "plt.axvline(linewidth=0.75, color='k')\n",
    "plt.plot(wT/pi, unwrap(np.angle(H))/pi)\n",
    "plt.axhline(linewidth=0.75, color='k')\n",
    "plt.ylim((-3/2, 3/2))\n",
    "plt.grid()\n",
    "setLabels(r'$\\omega T/\\pi$', r'$\\varphi(\\omega)/\\pi$')"
   ]
  },
  {
   "cell_type": "markdown",
   "metadata": {},
   "source": [
    "## 7.2:\n",
    "Das Eingangssignal sei $x(n) =\\cos(\\omega_0 n T)$. Berechnen sie das Ausgangssignal y(n)."
   ]
  },
  {
   "cell_type": "markdown",
   "metadata": {},
   "source": [
    "#### Lösung im Zeitbereich:\n",
    "Wie im Zeitkontinuierlichen gilt:  \n",
    "\n",
    "\\begin{align}\n",
    "    y(n) &= x(n) \\ast h(n)\\\\\n",
    "    &= \\cos (\\omega_0 n T) \\ast \\left(\\gamma(n) + \\gamma(n-1) \\right) \\\\\n",
    "    &= \\cos (\\omega_0 n T) + \\cos (\\omega_0 (n-1) T)\n",
    "\\end{align}"
   ]
  },
  {
   "cell_type": "markdown",
   "metadata": {},
   "source": [
    "## 7.3\n",
    "Zeigen Sie, dass der Phasenverlauf des Ausgangssignals eine lineare Funktion der Kreisfrequenz $\\omega_0$ ist.  \n",
    "Hinweis: $\\cos(\\alpha) + \\cos(\\beta) = 2\\cos\\left(\\frac{\\alpha + \\beta}{2} \\right)\\cos\\left(\\frac{\\alpha - \\beta}{2} \\right)$"
   ]
  },
  {
   "cell_type": "markdown",
   "metadata": {},
   "source": [
    "Mit dem Hinweis aus der Aufgabenstellung folgt:  \n",
    "\n",
    "\\begin{align}\n",
    "    y(n) &= \\cos (\\underbrace{\\omega_0 n T}_{\\beta}) + \\cos (\\underbrace{\\omega_0 (n-1) T}_{\\alpha}) \\\\\n",
    "    &= 2\\cos\\left(\\frac{\\omega_0 (n-1) T + \\omega_0 n T}{2} \\right)\\cos\\left(\\frac{\\omega_0 (n-1) T - \\omega_0 n T}{2} \\right) \\\\\n",
    "    &= \\underbrace{2\\cos\\left(\\frac{\\omega_0 T}{2} \\right)}_{A(\\omega_0)} \\cos\\bigg(\\omega_0 n T \\underbrace{- \\frac{\\omega_0 T}{2}}_{\\varphi(\\omega_0)} \\bigg)\n",
    "\\end{align}  \n",
    "\n",
    "Es gilt also $\\varphi(\\omega_0) = - \\frac{\\omega_0 T}{2}$. Der Phasenverlauf ist deshalb linear. Dies ist bereits im Plot zu Aufgabenteil 7.1 zu sehen."
   ]
  },
  {
   "cell_type": "markdown",
   "metadata": {},
   "source": [
    "## 7.4\n",
    "Ermitteln sie die Autokorrelationsfunktion (AKF) der Impulsantwort."
   ]
  },
  {
   "cell_type": "markdown",
   "metadata": {},
   "source": [
    "Die Energie von $h(n)$ ist endlich:  \n",
    "\n",
    "\\begin{align}\n",
    "    E_h = \\sum_{n=-\\infty}^{\\infty} \\left| h(n) \\right|^2 = 1 + 1 = 2 < \\infty\n",
    "\\end{align}\n",
    "\n",
    "Die Impulsantwort stellt deshalb ein diskretes Energiesignal dar. Deshalb kann die Definition der AKF für Energiesignale verwendet und die Faltungsdarstellung ausgenutzt werden:  \n",
    "\n",
    "\\begin{align}\n",
    "    \\varphi^E_{hh}(\\lambda) &= \\sum_{n=-\\infty}^{\\infty} h^{\\ast}(n)\\ h(n+\\lambda) = h^{\\ast}(-\\lambda) \\ast h(\\lambda) \\\\\n",
    "    &= \\left(\\gamma(-\\lambda) + \\gamma(-\\lambda-1) \\right) \\ast \\left(\\gamma(\\lambda) + \\gamma(\\lambda-1) \\right)\n",
    "\\end{align}\n",
    "\n",
    "Da der diskrete Gammaimpuls eine gerade Funktion ist, folgt:  \n",
    "\n",
    "\\begin{align}\n",
    "    \\varphi^E_{hh}(\\lambda) &= \\left(\\gamma(\\lambda) + \\gamma(\\lambda+1) \\right) \\ast \\left(\\gamma(\\lambda) + \\gamma(\\lambda-1) \\right) \\\\\n",
    "    &= \\gamma(\\lambda)\\ast\\gamma(\\lambda) + \\gamma(\\lambda)\\ast\\gamma(\\lambda-1) + \\gamma(\\lambda+1)\\ast\\gamma(\\lambda) + \\gamma(\\lambda+1)\\ast\\gamma(\\lambda-1) \\\\\n",
    "    &= \\gamma(\\lambda+1) + 2\\gamma(\\lambda) + \\gamma(\\lambda-1)\n",
    "\\end{align}\n",
    "\n",
    "Die AKF eines rellen Zeitsignals ist **immer** eine gerade Funktion. Dies ist auch auf dem folgenden Graphen sichtbar.  \n",
    "Für komplexe Signale ist die AKF hermitesch symmetrisch: $\\left(\\varphi^E_{hh}(\\lambda)\\right)^{\\ast} = \\varphi^E_{hh}(-\\lambda)$, der Realteil der AKF ist also **immer** eine gerade Funktion und der Imaginärteil **immer** eine ungerade Funktion."
   ]
  },
  {
   "cell_type": "markdown",
   "metadata": {},
   "source": [
    "#### Graph der Autokorrelationsfunktion $\\varphi^E_{hh}(\\lambda)$:"
   ]
  },
  {
   "cell_type": "code",
   "execution_count": null,
   "metadata": {
    "collapsed": false
   },
   "outputs": [],
   "source": [
    "plt.grid()\n",
    "plt.xlim((-1.5, 1.5))\n",
    "plt.ylim((-0.1, 2.5))\n",
    "plt.axvline(linewidth=0.75, color='k')\n",
    "plt.plot([-1, 0, 1], [1, 2, 1], 'bo', markersize=25)\n",
    "plt.xticks(np.arange(-1, 3))\n",
    "plt.vlines([-1, 0, 1], 0, [1, 2, 1], 'b')\n",
    "plt.axhline(linewidth=0.75, color='k')\n",
    "setLabels(r'$n$', r'$\\varphi^E_{hh}(\\lambda)$')"
   ]
  },
  {
   "cell_type": "markdown",
   "metadata": {},
   "source": [
    "## 7.5\n",
    "Bestimmen sie das Energiedichtespektrum der Impulsantwort $h(n)$."
   ]
  },
  {
   "cell_type": "markdown",
   "metadata": {},
   "source": [
    "Auch im diskreten gilt das Wiener-Khinchine-Theorem:  \n",
    "\n",
    "\\begin{align}\n",
    "    \\Phi^E_{hh}\\left(\\mathrm{e}^{j\\omega T}\\right) &= \\mathcal{F}_\\text{d}\\left\\{ \\varphi^E_{hh}(\\lambda) \\right\\} \\\\\n",
    "    &= \\mathcal{F}_\\text{d}\\left\\{ \\gamma(\\lambda+1) + 2\\gamma(\\lambda) + \\gamma(\\lambda-1)  \\right\\} \\\\\n",
    "    &= \\mathrm{e}^{j\\omega T} + 2 + \\mathrm{e}^{-j\\omega T} \\\\\n",
    "    &= 2\\left( 1 + \\cos\\left(\\omega T\\right)\\right)\n",
    "\\end{align}\n",
    "\n",
    "Das Energiedichtespektrum ist also die Fouriertransformierte der AKF. Weil die AKF eines reellen Zeitsignals immer eine **immer"
   ]
  },
  {
   "cell_type": "markdown",
   "metadata": {},
   "source": [
    "Alternativ kann mit dem Paar $\\mathcal{F}_\\text{d}\\left\\{ h^{\\ast}(-n) \\right\\} = H^{\\ast} \\left(\\mathrm{e}^{j\\omega T}\\right)$ der Faltungssatz angewendet werden:  \n",
    "\n",
    "\\begin{align}\n",
    "    \\Phi^E_{hh}\\left(\\mathrm{e}^{j\\omega T}\\right) &= \\mathcal{F}_\\text{d}\\left\\{ h^{\\ast}(-\\lambda)\\ast h(\\lambda) \\right\\} = \\mathcal{F}_\\text{d}\\left\\{ h^{\\ast}(-\\lambda) \\right\\} \\cdot \\mathcal{F}_\\text{d}\\left\\{ h(\\lambda) \\right\\} \\\\\n",
    "    &= H^{\\ast} \\left(\\mathrm{e}^{j\\omega T}\\right) H \\left(\\mathrm{e}^{j\\omega T}\\right) \\\\\n",
    "    &= \\left| H \\left(\\mathrm{e}^{j\\omega T}\\right)\\right|^2 \\qquad \\qquad  \\Bigg| \\text{ Teilaufgabe 7.1}\\\\\n",
    "    &= 2\\left( 1 + \\cos\\left(\\omega T\\right)\\right)\n",
    "\\end{align}\n",
    "\n",
    "Das **Energiedichte**spektrum ist also äquivalent das Betragsquadrat der Übertragungsfunktion.  \n",
    "(**Achtung**! Für das Leistungsdichtespektrum gilt **diese** Aussage nicht!).  \n",
    "Wegen der hermiteschen Symmetrie der AKF gilt, dass das Energiedichtespektrum **immer** eine rein reelle Funktion in $\\omega$ ist. Dies wird auch durch die Formulierung über das **Betrags**quadrat der Übertragungsfunktion deutlich."
   ]
  },
  {
   "cell_type": "markdown",
   "metadata": {},
   "source": [
    "#### Graph des Energiedichtespektrums $\\Phi^E_{hh}\\left(\\mathrm{e}^{j\\omega T}\\right)$:"
   ]
  },
  {
   "cell_type": "code",
   "execution_count": null,
   "metadata": {
    "collapsed": false,
    "scrolled": true
   },
   "outputs": [],
   "source": [
    "plt.axvline(linewidth=0.75, color='k')\n",
    "plt.plot(wT/pi, np.abs(H)**2)\n",
    "plt.axhline(linewidth=0.75, color='k')\n",
    "plt.ylim((-0.05, 4.05))\n",
    "plt.grid()\n",
    "setLabels(r'$\\omega T/\\pi$', r'$\\Phi^E_{hh}\\left(\\mathrm{e}^{j\\omega T}\\right)' +\n",
    "          r'= \\left|H \\left(\\mathrm{e}^{j\\omega T}\\right)\\right|^2$')"
   ]
  },
  {
   "cell_type": "markdown",
   "metadata": {},
   "source": [
    "## Zusatz: Hintergründe\n",
    "Das System verhält sich (bis auf den fehlenden Faktor $1/2$ vor jedem Impuls) sehr ähnlich zum System aus Aufgabe 3. Dies lässt sich ausnutzen, indem **das kontinuierliche System** aus Aufgabe 3 **durch Abtastung, diskrete Filterung und Rekonstruktion realisiert** werden kann, sofern das **Abtasttheorem** eingehalten wird. Die Verzögerungsterme müssen dann der Abtastperiodendauer entsprechen.  \n",
    "\n",
    "Systeme, die eine Summation aus skalierten und verzögerten Versionen des Eingangssignals bilden, sind im Zeitdiskreten sehr wichtig. Das System in dieser Übung stellt ein sogenanntes **FIR-Filter** dar (Finite Impulse Response). Der Name kommt daher, dass die Impulsantwort eine endliche Länge besitzt. **FIR-Filter** bestehen nur aus Verzögerungen, Multiplikationen mit Faktoren und Summieren, **haben aber keine Rückkopplungen**.  \n",
    "\n",
    "Zu erkennen ist insbesondere, dass wie im Kontinuierlichen gilt: Der Betrag der Übertragungsfunktion liefert einen Frequenzabhängigen Verstärkungsfator, während der Phasenverlauf eine frequenzabhängige Phasenverschiebung darstellt. Wegen\n",
    "\n",
    "\\begin{align}\n",
    "    \\cos\\bigg(\\omega_0 n T \\underbrace{- \\frac{\\omega_0 T}{2}}_{\\varphi(\\omega_0)} \\bigg) = \\cos\\bigg(\\omega_0 \\left(n T - \\frac{T}{2}\\right) \\bigg)\n",
    "\\end{align}\n",
    "\n",
    "kann die Phasenverschiebung auch als Verzögerung interpretiert werden.\n",
    "Diese Verzögerung ist die Ableitung $\\frac{\\mathrm{d}}{\\mathrm{d}\\omega_0} \\varphi(\\omega_0) = - \\frac{T}{2}$. Sie \n",
    "wird Gruppenlaufzeit des Filters genannt und ist bei linearphasigen Systemen konstant."
   ]
  }
 ],
 "metadata": {
  "kernelspec": {
   "display_name": "Python 3",
   "language": "python",
   "name": "python3"
  },
  "language_info": {
   "codemirror_mode": {
    "name": "ipython",
    "version": 3
   },
   "file_extension": ".py",
   "mimetype": "text/x-python",
   "name": "python",
   "nbconvert_exporter": "python",
   "pygments_lexer": "ipython3",
   "version": "3.5.2"
  }
 },
 "nbformat": 4,
 "nbformat_minor": 0
}
