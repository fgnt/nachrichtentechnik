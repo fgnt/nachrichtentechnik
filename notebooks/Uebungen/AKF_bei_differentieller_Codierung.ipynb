{
 "cells": [
  {
   "cell_type": "markdown",
   "metadata": {},
   "source": [
    "# Zur Berechnung der AKF bei differentieller Codierung\n",
    "\n",
    "Gegeben ist folgendes System mit der Bitsequenz $b_k$ und der daraus erzeugten Symbolsequenz $A(k)$, für welche die AKF $\\varphi_{AA}(\\lambda)$ bestimmt werden soll:"
   ]
  },
  {
   "cell_type": "markdown",
   "metadata": {},
   "source": [
    "![Blockdiagramm](figures/other/Bits_To_Symbol.png)"
   ]
  },
  {
   "cell_type": "markdown",
   "metadata": {
    "collapsed": true
   },
   "source": [
    "Laut Vorgabe ist $b_k$ eine stationäre redundanzfreie Bitsequenz. Das bedeutet insbesondere:\n",
    "- $b_k \\in \\{0, 1\\} \\ \\forall k$\n",
    "- Die beiden Werte sind gleich wahrscheinlich: $\\mathrm{Pr}(b_k{=}0) = \\mathrm{Pr}(b_k{=}1) = \\frac{1}{2}$\n",
    "- Aufeinanderfolgende Werte sind unkorreliert."
   ]
  },
  {
   "cell_type": "markdown",
   "metadata": {},
   "source": [
    "Der letzte Punkt muss korrekt behandelt werden, denn die Sequenz ist **nicht mittelwertfrei**:\n",
    "\n",
    "\\begin{align}\n",
    "    \\mathrm{E} \\left[ b_k \\right] &= 0\\cdot\\frac{1}{2} + 1\\cdot\\frac{1}{2} \\\\\n",
    "                                  &= \\frac{1}{2}\n",
    "\\end{align}\n",
    "\n",
    "Deshalb muss beim Bilden der AKF vorsichtiger vorgegangen werden als bei mittelwertfreien Zufallsprozessen.\n",
    "\n",
    "- Für $\\lambda \\neq 0$ gilt:\n",
    "\n",
    "\\begin{align}\n",
    "        \\mathrm{E} \\left[b_k b_{k+\\lambda}\\right] \n",
    "        &= \\mathrm{E} \\left[b_k\\right]  \\cdot \\mathrm{E} \\left[b_{k+\\lambda}\\right] \\\\\n",
    "        &= \\left( \\mathrm{E} \\left[b_k\\right] \\right)^2 \\\\\n",
    "        &= \\frac{1}{4}\n",
    "\\end{align}\n",
    "\n",
    "- Für $\\lambda = 0$ gilt:\n",
    "\n",
    "\\begin{align}\n",
    "        \\mathrm{E} \\left[b_k^2 \\right] \n",
    "        &= 0^2\\cdot\\frac{1}{2} + 1^2\\cdot\\frac{1}{2} \\\\\n",
    "        &= \\frac{1}{2}\n",
    "\\end{align}\n",
    "\n",
    "Dies lässt sich zusammenfassen zu\n",
    "\n",
    "\\begin{align}\n",
    "    \\varphi_{bb}(\\lambda) = \\frac{1}{4}\\gamma(\\lambda) + \\frac{1}{4}\n",
    "\\end{align}"
   ]
  },
  {
   "cell_type": "markdown",
   "metadata": {},
   "source": [
    "Mit diesem Ergebnis lässt sich $\\varphi_{AA}(\\lambda)$ auf zwei Wegen berechnen:"
   ]
  },
  {
   "cell_type": "markdown",
   "metadata": {},
   "source": [
    "#### 1. direkt:\n",
    "\n",
    "\\begin{align}\n",
    "    \\varphi_{AA}(\\lambda) &= \\mathrm{E} \\left[ (b_k - b_{k{-}1}) \\cdot (b_{k+\\lambda} - b_{k{-}1+\\lambda})\\right] \\\\\n",
    "                          &=   \\mathrm{E} \\left[b_k b_{k+\\lambda}\\right] \n",
    "                             - \\mathrm{E} \\left[b_k b_{k{-}1+\\lambda} \\right]\n",
    "                             - \\mathrm{E} \\left[b_{k{-}1} b_{k+\\lambda} \\right]\n",
    "                             + \\mathrm{E} \\left[b_{k{-}1} b_{k{-}1+\\lambda} \\right] \\\\\n",
    "                          &=   \\varphi_{bb}(\\lambda) - \\varphi_{bb}(\\lambda{-}1) \n",
    "                             - \\varphi_{bb}(\\lambda{+}1) + \\varphi_{bb}(\\lambda) \\\\\n",
    "                          &= \\frac{1}{4}\\left(2\\gamma(\\lambda) - \\gamma(\\lambda{-}1) - \\gamma(\\lambda{+}1)\\right)\n",
    "\\end{align}                        "
   ]
  },
  {
   "cell_type": "markdown",
   "metadata": {},
   "source": [
    "#### 2. Über die Wiener-Lee-Beziehung:\n",
    "\n",
    "Weil der Differenzbilder ein LTI-System ist, lässt er sich über eine Impulsantwort beschreiben:\n",
    "\n",
    "\\begin{align}\n",
    "    A(k) &= b_k \\ast \\underbrace{\\left(\\gamma(k) - \\gamma(k{-}1)\\right)}_{:= h_D(k)} \\\\\n",
    "    \\Rightarrow \\varphi_{AA}(\\lambda) &= \\varphi_{bb}(\\lambda) \\ast \\varphi_{h_D h_D}^\\mathrm{E}(\\lambda) \\\\\n",
    "    &= \\varphi_{bb}(\\lambda) \\ast \\left(\\gamma(\\lambda) - \\gamma(\\lambda{+}1)\\right) \\ast \\left(\\gamma(\\lambda) - \\gamma(\\lambda{-}1)\\right) \\\\\n",
    "    &= \\left(\\frac{1}{4}\\gamma(\\lambda) + \\frac{1}{4} \\right) \\ast \\left(2\\gamma(\\lambda) - \\gamma(\\lambda{+}1) - \\gamma(\\lambda{-}1)\\right) \\\\\n",
    "    &= \\frac{1}{4}\\left(2\\gamma(\\lambda) - \\gamma(\\lambda{+}1) - \\gamma(\\lambda{-}1)\\right)\n",
    "\\end{align}"
   ]
  },
  {
   "cell_type": "markdown",
   "metadata": {},
   "source": [
    "Das letzte Ergebnis folgt, weil die Faltung einer Konstanten mit einer Zeitverschiebung dieselbe Konstante ergibt und sich alle konstanten Terme aufheben. Das Ergebnis ist intuitiv sinnvoll, weil wegen $\\mathrm{E}\\left[ A(k) \\right] = \\mathrm{E}\\left[ b_k - b_{k{-}1} \\right] = 0$ die Symbolsequenz mittelwertfrei sein muss und in der AKF deshalb kein konstanter Term auftreten darf."
   ]
  }
 ],
 "metadata": {
  "kernelspec": {
   "display_name": "Python [default]",
   "language": "python",
   "name": "python3"
  },
  "language_info": {
   "codemirror_mode": {
    "name": "ipython",
    "version": 3
   },
   "file_extension": ".py",
   "mimetype": "text/x-python",
   "name": "python",
   "nbconvert_exporter": "python",
   "pygments_lexer": "ipython3",
   "version": "3.5.2"
  }
 },
 "nbformat": 4,
 "nbformat_minor": 2
}
